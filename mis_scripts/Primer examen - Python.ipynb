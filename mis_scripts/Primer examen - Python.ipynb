{
 "cells": [
  {
   "cell_type": "markdown",
   "metadata": {},
   "source": [
    "## 1. Escribe una secuencia de instrucciones que permitan leer un número real por pantalla y que muestre si el número es positivo o no."
   ]
  },
  {
   "cell_type": "code",
   "execution_count": 7,
   "metadata": {},
   "outputs": [],
   "source": [
    "def verif_n():\n",
    "    num = int(input(\"Escribe un numero\"));\n",
    "    if num < 0:\n",
    "        print(\"El numero es negativo\");\n",
    "    else:\n",
    "        print(\"El numero es positivo\");\n",
    "        return;"
   ]
  },
  {
   "cell_type": "code",
   "execution_count": 9,
   "metadata": {},
   "outputs": [
    {
     "name": "stdout",
     "output_type": "stream",
     "text": [
      "Escribe un numero-2\n",
      "El numero es negativo\n"
     ]
    }
   ],
   "source": [
    "verif_n()"
   ]
  },
  {
   "cell_type": "markdown",
   "metadata": {},
   "source": [
    "## 2. Escribe una secuencia de instrucciones que permitan leer un número real por pantalla y que muestre si el número está en el rango entre -5 y 5"
   ]
  },
  {
   "cell_type": "code",
   "execution_count": 11,
   "metadata": {},
   "outputs": [],
   "source": [
    "def verif_n2():\n",
    "    num = int(input(\"Escribe un numero\"));\n",
    "    if num < 5:\n",
    "        print(\"El numero es menor a 5\");\n",
    "    else:\n",
    "        print(\"El numero es mayor o igual a 5\");\n",
    "        return;"
   ]
  },
  {
   "cell_type": "code",
   "execution_count": 13,
   "metadata": {},
   "outputs": [
    {
     "name": "stdout",
     "output_type": "stream",
     "text": [
      "Escribe un numero6\n",
      "El numero es mayor o igual a 5\n"
     ]
    }
   ],
   "source": [
    "verif_n2()"
   ]
  },
  {
   "cell_type": "markdown",
   "metadata": {},
   "source": [
    "## 3. Escribe una secuencia de instrucciones que permitan leer las coordenadas de un punto (x, y) e indique en cuál de los cuatro cuadrantes se encuentra dicho punto."
   ]
  },
  {
   "cell_type": "code",
   "execution_count": 21,
   "metadata": {},
   "outputs": [],
   "source": [
    "def encuentra_ubicacion_cuadrantes():\n",
    "    num = int(input(\"Escribe el punto x\"));\n",
    "    num2 = int(input(\"Escribe el punto y\"));\n",
    "    \n",
    "    if num == 0 and num2 == 0:\n",
    "        print(\"Las coordenadas se encuentran en el origen\");\n",
    "    elif num < 0 and num2 < 0:\n",
    "        print(\"Las coordenadas se encuentran en el 3er cuadrante\");\n",
    "    elif num >= 0 and num2 < 0:\n",
    "        print(\"Las coordenadas se encuentran en el 4to cuadrante\");\n",
    "    elif num >= 0 and num2 >= 0:\n",
    "        print(\"Las coordenadas se encuentran en el 1er cuadrante\");\n",
    "    elif num < 0 and num2 >= 0:\n",
    "        print(\"Las coordenadas se encuentran en el 2do cuadrante\");\n",
    "        return;"
   ]
  },
  {
   "cell_type": "code",
   "execution_count": 23,
   "metadata": {},
   "outputs": [
    {
     "name": "stdout",
     "output_type": "stream",
     "text": [
      "Escribe el punto x3\n",
      "Escribe el punto y-9\n",
      "Las coordenadas se encuentran en el 4to cuadrante\n"
     ]
    }
   ],
   "source": [
    "encuentra_ubicacion_cuadrantes()"
   ]
  },
  {
   "cell_type": "markdown",
   "metadata": {},
   "source": [
    "## 4. Escribe una secuencia de instrucciones que permitan leer dos números enteros y muestre el cociente de la división entera y el resto."
   ]
  },
  {
   "cell_type": "code",
   "execution_count": 40,
   "metadata": {},
   "outputs": [],
   "source": [
    "def encuentra_cociente_y_resto():\n",
    "    num = int(input(\"Escribe el dividendo\"));\n",
    "    num2 = int(input(\"Escribe el denominador\"));\n",
    "    \n",
    "    x = num//num2;\n",
    "    y = num%num2;\n",
    "    \n",
    "    print(\"El cociente de ambos numeros es \"+str(x));\n",
    "    print(\"El residuo de ambos numeros es \"+str(y));\n",
    "    "
   ]
  },
  {
   "cell_type": "code",
   "execution_count": 42,
   "metadata": {},
   "outputs": [
    {
     "name": "stdout",
     "output_type": "stream",
     "text": [
      "Escribe el dividendo17\n",
      "Escribe el denominador5\n",
      "El cociente de ambos numeros es 3\n",
      "El residuo de ambos numeros es 2\n"
     ]
    }
   ],
   "source": [
    "encuentra_cociente_y_resto()"
   ]
  },
  {
   "cell_type": "markdown",
   "metadata": {},
   "source": [
    "## 5. Escribe una secuencia de instrucciones que permitan leer un número entero es cuadrado perfecto o no (piensa la mejor forma de hacerlo con lo que has aprendido hasta ahora)"
   ]
  },
  {
   "cell_type": "code",
   "execution_count": 79,
   "metadata": {},
   "outputs": [],
   "source": [
    "def encuentra_sies_cuadrado_perf():\n",
    "    num = int(input(\"Escribe el numero\"));\n",
    "    \n",
    "    x = math.sqrt(num)\n",
    "    x = math.modf(x)\n",
    "        \n",
    "    if x[0]== 0:\n",
    "        print(\"Este es un numero cuadrado perfecto\");\n",
    "    else:\n",
    "        print(\"Este NO es un numero cuadrado perfecto\");\n"
   ]
  },
  {
   "cell_type": "code",
   "execution_count": 85,
   "metadata": {},
   "outputs": [
    {
     "name": "stdout",
     "output_type": "stream",
     "text": [
      "Escribe el numero16\n",
      "Este es un numero cuadrado perfecto\n"
     ]
    }
   ],
   "source": [
    "encuentra_sies_cuadrado_perf()"
   ]
  },
  {
   "cell_type": "markdown",
   "metadata": {},
   "source": [
    "## 6. Escribe una expresión que permita determinar si un número entero positivo puede corresponder a un año bisiesto o no. Se consideran años bisiestos aquellos cuyo número es divisible por cuatro excepto los años que son múltiplos de 100, a no ser que lo sean de 400 (por ejemplo el año 2000 fue bisiesto pero el 2100 no lo será)."
   ]
  },
  {
   "cell_type": "code",
   "execution_count": 28,
   "metadata": {},
   "outputs": [],
   "source": [
    "def revisar_sies_bisiesto():\n",
    "    num = int(input(\"Escribe el año que deseas revisar\"));\n",
    "    \n",
    "    x = num/4\n",
    "    x_info = math.modf(x)\n",
    "    \n",
    "    y = num/100\n",
    "    y_info = math.modf(y)\n",
    "    \n",
    "    z = num/400\n",
    "    z_info = math.modf(z)\n",
    "\n",
    "    if x_info[0] == 0 and y_info[0] != 0:\n",
    "        print(\"Este es un ano bisiesto\");\n",
    "    elif x_info[0] == 0 and y_info[0] == 0 and z_info[0] == 0:\n",
    "        print(\"Este es un ano bisiesto\");\n",
    "    else:\n",
    "        print(\"Este NO es un ano bisiesto\");"
   ]
  },
  {
   "cell_type": "code",
   "execution_count": 33,
   "metadata": {},
   "outputs": [
    {
     "name": "stdout",
     "output_type": "stream",
     "text": [
      "Escribe el año que deseas revisar2500\n",
      "Este NO es un ano bisiesto\n"
     ]
    }
   ],
   "source": [
    "revisar_sies_bisiesto()"
   ]
  },
  {
   "cell_type": "markdown",
   "metadata": {},
   "source": [
    "## 7. Busca la imagen de un tablero de ajedrez en Google y fíjate en la nomenclatura de las casillas. Escribe una expresión lea una letra y un número de teclado correspondiente a una casilla de un tablero de ajedrez y nos indique si esta casilla es negra o blanca."
   ]
  },
  {
   "cell_type": "code",
   "execution_count": 3,
   "metadata": {},
   "outputs": [],
   "source": [
    "def revisar_tabla_ajedrez():\n",
    "    num = str(input(\"Escribe la letra de la casilla que deseas buscar\"));\n",
    "    num2 = int(input(\"Escribe el numero de la casilla que deseas buscar\"));\n",
    "\n",
    "    x = num2%2\n",
    "\n",
    "    if x == 0 and (num == \"a\" or  num == \"c\" or  num == \"e\" or  num == \"g\"):\n",
    "        print(\"La casilla es negra\");\n",
    "    elif x == 0 and (num == \"b\" or  num == \"d\" or  num == \"f\" or  num == \"h\"):\n",
    "        print(\"La casilla es blanca\");\n",
    "    elif x != 0 and (num == \"a\" or  num == \"c\" or  num == \"e\" or  num == \"g\"):\n",
    "        print(\"La casilla es blanca\");\n",
    "    elif x != 0 and (num == \"b\" or  num == \"d\" or  num == \"f\" or  num == \"h\"):\n",
    "        print(\"La casilla es negra\");\n",
    "    else:\n",
    "        print(\"Hubo algun error, recuerda las letras deben ser minusculas\");\n"
   ]
  },
  {
   "cell_type": "code",
   "execution_count": 6,
   "metadata": {},
   "outputs": [
    {
     "name": "stdout",
     "output_type": "stream",
     "text": [
      "Escribe la letra de la casilla que deseas buscard\n",
      "Escribe el numero de la casilla que deseas buscar7\n",
      "La casilla es negra\n"
     ]
    }
   ],
   "source": [
    "revisar_tabla_ajedrez()"
   ]
  },
  {
   "cell_type": "code",
   "execution_count": null,
   "metadata": {},
   "outputs": [],
   "source": []
  },
  {
   "cell_type": "code",
   "execution_count": null,
   "metadata": {},
   "outputs": [],
   "source": []
  }
 ],
 "metadata": {
  "kernelspec": {
   "display_name": "Python 3",
   "language": "python",
   "name": "python3"
  }
 },
 "nbformat": 4,
 "nbformat_minor": 2
}
