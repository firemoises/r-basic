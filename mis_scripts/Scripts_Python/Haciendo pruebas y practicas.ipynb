{
 "cells": [
  {
   "cell_type": "code",
   "execution_count": 2,
   "metadata": {},
   "outputs": [],
   "source": [
    "%matplotlib inline \n",
    "import matplotlib.pyplot as plt\n",
    "#Esto es lo que hace que matplotlib funcione\n",
    "\n",
    "import numpy as np\n"
   ]
  },
  {
   "cell_type": "markdown",
   "metadata": {},
   "source": [
    "## El uso de subplot"
   ]
  },
  {
   "cell_type": "code",
   "execution_count": 27,
   "metadata": {},
   "outputs": [
    {
     "data": {
      "image/png": "[encoded data removed]",
      "text/plain": [
       "<Figure size 432x288 with 2 Axes>"
      ]
     },
     "metadata": {
      "needs_background": "light"
     },
     "output_type": "display_data"
    }
   ],
   "source": [
    "def f(x):\n",
    "    return np.exp(-x)*np.cos(2*np.pi*x)\n",
    "\n",
    "x1 = np.arange(0.0,5.0,0.1)\n",
    "x2 = np.arange(0.0,5.0,0.2)\n",
    "\n",
    "plt.figure(1)\n",
    "plt.subplot(2,1,1)\n",
    "#Subplot:Es para mostrar 2 o mas graficos en una misma ventana\n",
    "#Subplot:El primer argumento es la cant de columnas, y el tercer agumento es la cantidad de filas \n",
    "#Subplot:2,1,1 significa el doble de columnas (ponlo mas ancho) y 1,2,2 significa el doble de filas (ponlo mas vertical)\n",
    "plt.plot(x1,f(x1),\"b-\") \n",
    "\n",
    "#Figure:Se utiliza para definir que apartir de esta funcion se esta hablando de otra figura, se usa de modo secuencial\n",
    "plt.subplot(2,1,2) \n",
    "plt.plot(x2**2,f(x2),\"b-\") \n",
    "\n",
    "plt.xlabel(\"eje de abcisas\")\n",
    "plt.ylabel(\"eje de ordenadas\")\n",
    "\n",
    "\n",
    "plt.show()"
   ]
  },
  {
   "cell_type": "code",
   "execution_count": 16,
   "metadata": {},
   "outputs": [
    {
     "ename": "NameError",
     "evalue": "name 'subplot' is not defined",
     "output_type": "error",
     "traceback": [
      "\u001b[1;31m---------------------------------------------------------------------------\u001b[0m",
      "\u001b[1;31mNameError\u001b[0m                                 Traceback (most recent call last)",
      "\u001b[1;32m<ipython-input-16-ae759ee57ea8>\u001b[0m in \u001b[0;36m<module>\u001b[1;34m\u001b[0m\n\u001b[1;32m----> 1\u001b[1;33m \u001b[0mhelp\u001b[0m\u001b[1;33m(\u001b[0m\u001b[0msubplot\u001b[0m\u001b[1;33m)\u001b[0m\u001b[1;33m\u001b[0m\u001b[1;33m\u001b[0m\u001b[0m\n\u001b[0m",
      "\u001b[1;31mNameError\u001b[0m: name 'subplot' is not defined"
     ]
    }
   ],
   "source": []
  },
  {
   "cell_type": "markdown",
   "metadata": {},
   "source": [
    "## El uso de print con \\n\\t y \\n"
   ]
  },
  {
   "cell_type": "code",
   "execution_count": 29,
   "metadata": {},
   "outputs": [
    {
     "name": "stdout",
     "output_type": "stream",
     "text": [
      "Twinkle, twinkle, little star, \n",
      "\tHow I wonder what you are! \n",
      "\t\tUp above the world so high, \n",
      "\t\tLike a diamond in the sky. \n",
      "Twinkle, twinkle, little star, \n",
      "\tHow I wonder what you are!\n"
     ]
    }
   ],
   "source": [
    "#Write a Python program to print the following string in a specific format (see the output).\n",
    "\n",
    "#Twinkle, twinkle, little star,\n",
    "#\tHow I wonder what you are! \n",
    "#\t\tUp above the world so high,   \t\t\n",
    "#\t\tLike a diamond in the sky. \n",
    "#Twinkle, twinkle, little star, \n",
    "#\tHow I wonder what you are\n",
    "\n",
    "\n",
    "\n",
    "print(\"Twinkle, twinkle, little star, \\n\\tHow I wonder what you are! \\n\\t\\tUp above the world so high, \\n\\t\\tLike a diamond in the sky. \\nTwinkle, twinkle, little star, \\n\\tHow I wonder what you are!\")"
   ]
  },
  {
   "cell_type": "code",
   "execution_count": 26,
   "metadata": {},
   "outputs": [
    {
     "name": "stdout",
     "output_type": "stream",
     "text": [
      "Haciendo un salto\n",
      "Ya\n",
      "Haciendo ahora otro salto pero donde me quede\n",
      "\tAqui cai\n"
     ]
    }
   ],
   "source": [
    "print(\"Haciendo un salto\\nYa\\nHaciendo ahora otro salto pero donde me quede\\n\\tAqui cai\")"
   ]
  },
  {
   "cell_type": "code",
   "execution_count": 28,
   "metadata": {},
   "outputs": [
    {
     "name": "stdout",
     "output_type": "stream",
     "text": [
      "**********\n",
      "\n"
     ]
    }
   ],
   "source": [
    "#  Write a Python program to print without newline or space?\n",
    "for i in range(0, 10):\n",
    "    print('*', end=\"\")\n",
    "print(\"\\n\")"
   ]
  },
  {
   "cell_type": "markdown",
   "metadata": {},
   "source": [
    "## Mostrar fecha y hora actual"
   ]
  },
  {
   "cell_type": "code",
   "execution_count": 34,
   "metadata": {},
   "outputs": [
    {
     "name": "stdout",
     "output_type": "stream",
     "text": [
      "Current date and time : \n",
      "2020-02-20 21:07:20\n"
     ]
    }
   ],
   "source": [
    "## Write a Python program to display the current date and time.\n",
    "\n",
    "import datetime\n",
    "now = datetime.datetime.now()\n",
    "print (\"Current date and time : \")\n",
    "print (now.strftime(\"%Y-%m-%d %H:%M:%S\"))"
   ]
  },
  {
   "cell_type": "code",
   "execution_count": null,
   "metadata": {},
   "outputs": [],
   "source": []
  },
  {
   "cell_type": "markdown",
   "metadata": {},
   "source": [
    "## El uso de split()"
   ]
  },
  {
   "cell_type": "code",
   "execution_count": 37,
   "metadata": {},
   "outputs": [
    {
     "name": "stdout",
     "output_type": "stream",
     "text": [
      "Escribe los numeros separados por comma1,2,3\n",
      "['3', '2', '1'] ('3', '2', '1')\n"
     ]
    }
   ],
   "source": [
    "# Write a Python program which accepts a sequence of comma-separated numbers from user and \n",
    "# generate a list and a tuple with those numbers in reverse.\n",
    "\n",
    "y = input(\"Escribe los numeros separados por comma\")\n",
    "x = y.split(\",\") #es como el explode en php\n",
    "\n",
    "lista1 = list(x)\n",
    "lista1.reverse()\n",
    "\n",
    "tupla1 = tuple(lista1)\n",
    "\n",
    "print(lista1,tupla1)"
   ]
  },
  {
   "cell_type": "code",
   "execution_count": 38,
   "metadata": {},
   "outputs": [
    {
     "name": "stdout",
     "output_type": "stream",
     "text": [
      "Escribe el nombre del archivojava.jpg\n",
      "jpg\n"
     ]
    }
   ],
   "source": [
    "# Write a Python program to accept a filename from the user and print the extension of that.\n",
    "\n",
    "y = input(\"Escribe el nombre del archivo\")\n",
    "x = y.split(\".\") #es como el explode en php\n",
    "\n",
    "print(x[1])"
   ]
  },
  {
   "cell_type": "markdown",
   "metadata": {},
   "source": [
    "## Concatenando"
   ]
  },
  {
   "cell_type": "code",
   "execution_count": 7,
   "metadata": {},
   "outputs": [
    {
     "name": "stdout",
     "output_type": "stream",
     "text": [
      "Escribe un numero5\n",
      "615\n"
     ]
    }
   ],
   "source": [
    "# 10. Write a Python program that accepts an integer (n) and computes the value of n+nn+nnn. Go to the editor\n",
    "\n",
    "y = int(input(\"Escribe un numero\"))\n",
    "\n",
    "x1 = y\n",
    "x2 = str(y)+str(y)\n",
    "x3 = str(y)+str(y)+str(y)\n",
    "\n",
    "result = x1+int(x2)+int(x3)\n",
    "\n",
    "print(result)\n"
   ]
  },
  {
   "cell_type": "markdown",
   "metadata": {},
   "source": [
    "## Documentacion"
   ]
  },
  {
   "cell_type": "code",
   "execution_count": 9,
   "metadata": {},
   "outputs": [
    {
     "name": "stdout",
     "output_type": "stream",
     "text": [
      "Funcion  <built-in function abs> Return the absolute value of the argument.\n"
     ]
    }
   ],
   "source": [
    "#11. Write a Python program to print the documents (syntax, description etc.) of Python built-in function(s). \n",
    "\n",
    "func_name = abs\n",
    "\n",
    "print(\"Funcion \",func_name,func_name.__doc__)"
   ]
  },
  {
   "cell_type": "markdown",
   "metadata": {},
   "source": [
    "## El modulo calendario"
   ]
  },
  {
   "cell_type": "code",
   "execution_count": null,
   "metadata": {},
   "outputs": [],
   "source": [
    "import calendar\n",
    "y = int(input(\"Input the year : \"))\n",
    "m = int(input(\"Input the month : \"))\n",
    "print(calendar.month(y, m))"
   ]
  },
  {
   "cell_type": "markdown",
   "metadata": {},
   "source": [
    "## Escribir saltos de linea sin escaparlos"
   ]
  },
  {
   "cell_type": "code",
   "execution_count": 13,
   "metadata": {},
   "outputs": [
    {
     "name": "stdout",
     "output_type": "stream",
     "text": [
      "\n",
      "a string that you \"don't\" have to escape\n",
      "This\n",
      "is a  ....... multi-line\n",
      "heredoc string --------> example\n",
      "\n"
     ]
    }
   ],
   "source": [
    "print(\"\"\"\n",
    "a string that you \"don't\" have to escape\n",
    "This\n",
    "is a  ....... multi-line\n",
    "heredoc string --------> example\n",
    "\"\"\")"
   ]
  },
  {
   "cell_type": "markdown",
   "metadata": {},
   "source": [
    "## Intervalos de fechas"
   ]
  },
  {
   "cell_type": "code",
   "execution_count": 16,
   "metadata": {},
   "outputs": [
    {
     "name": "stdout",
     "output_type": "stream",
     "text": [
      "375\n"
     ]
    }
   ],
   "source": [
    "## 14. Write a Python program to calculate number of days between two dates.\n",
    "\n",
    "from datetime import date\n",
    "f_date = date(2019, 7, 2)\n",
    "l_date = date(2020, 7, 11)\n",
    "delta = l_date - f_date\n",
    "print(delta.days)\n"
   ]
  },
  {
   "cell_type": "markdown",
   "metadata": {},
   "source": [
    "## Ejercicios con listas en Python"
   ]
  },
  {
   "cell_type": "code",
   "execution_count": 11,
   "metadata": {},
   "outputs": [
    {
     "name": "stdout",
     "output_type": "stream",
     "text": [
      "Input the string : moises\n",
      "Input the n copies : 5\n",
      "momomomomo\n"
     ]
    }
   ],
   "source": [
    "# Write a Python program to get the n (non-negative integer) copies of the first 2 characters \n",
    "#of a given string. Return the n copies of the whole string if the length is less than 2. \n",
    "\n",
    "def haz_copias():\n",
    "    y = str(input(\"Input the string : \"))\n",
    "    y2 = int(input(\"Input the n copies : \"))\n",
    "    \n",
    "    lista_str = list(y)\n",
    "    \n",
    "    new_str=\"\"\n",
    "    for x in range(y2):\n",
    "        \n",
    "        new_str += lista_str[0]+lista_str[1]\n",
    "        \n",
    "    print(new_str)\n",
    "\n",
    "haz_copias()"
   ]
  },
  {
   "cell_type": "code",
   "execution_count": 14,
   "metadata": {},
   "outputs": [
    {
     "name": "stdout",
     "output_type": "stream",
     "text": [
      "Input the string : moises\n",
      "moises\n"
     ]
    }
   ],
   "source": [
    "#Write a Python program to concatenate all elements in a list into a string and return it. Go to the editor\n",
    "\n",
    "def concatena(listado_x):\n",
    "    new_str = \"\"\n",
    "    for x in listado_x:\n",
    "        new_str += x\n",
    "        \n",
    "    print(new_str)\n",
    "    \n",
    "y = str(input(\"Input the string : \"))\n",
    "lista = list(y)\n",
    "\n",
    "\n",
    "concatena(lista)"
   ]
  },
  {
   "cell_type": "code",
   "execution_count": 20,
   "metadata": {},
   "outputs": [
    {
     "name": "stdout",
     "output_type": "stream",
     "text": [
      "[386, 462, 418, 344, 236, 566, 978, 328, 162, 758, 918]\n"
     ]
    }
   ],
   "source": [
    "## Write a Python program to print all even numbers from a given numbers list in the same order \n",
    "#and stop the printing if any numbers that come after 237 in the sequence\n",
    "\n",
    "numbers = [    \n",
    "    386, 462, 47, 418, 907, 344, 236, 375, 823, 566, 597, 978, 328, 615, 953, 345, \n",
    "    399, 162, 758, 219, 918, 237, 412, 566, 826, 248, 866, 950, 626, 949, 687, 217, \n",
    "    815, 67, 104, 58, 512, 24, 892, 894, 767, 553, 81, 379, 843, 831, 445, 742, 717, \n",
    "    958,743, 527\n",
    "    ]\n",
    "\n",
    "lista_new = []\n",
    "for n in numbers:\n",
    "    if(n == 237):\n",
    "        break\n",
    "    else:\n",
    "        x = n % 2\n",
    "        if(x==0):\n",
    "            lista_new.append(n) \n",
    "        \n",
    "print(lista_new)\n"
   ]
  },
  {
   "cell_type": "markdown",
   "metadata": {},
   "source": [
    "## Para obtener que version de Python estamos usando"
   ]
  },
  {
   "cell_type": "code",
   "execution_count": 23,
   "metadata": {},
   "outputs": [
    {
     "name": "stdout",
     "output_type": "stream",
     "text": [
      "Python version\n",
      "3.7.3 (default, Apr 24 2019, 15:29:51) [MSC v.1915 64 bit (AMD64)]\n",
      "Version info.\n",
      "sys.version_info(major=3, minor=7, micro=3, releaselevel='final', serial=0)\n"
     ]
    }
   ],
   "source": [
    "import sys\n",
    "print(\"Python version\")\n",
    "print (sys.version)\n",
    "print(\"Version info.\")\n",
    "print (sys.version_info)"
   ]
  },
  {
   "cell_type": "markdown",
   "metadata": {},
   "source": [
    "## Probando Grafico de distribucion normal"
   ]
  },
  {
   "cell_type": "code",
   "execution_count": 1,
   "metadata": {},
   "outputs": [],
   "source": [
    "%matplotlib inline \n",
    "import matplotlib.pyplot as plt"
   ]
  },
  {
   "cell_type": "code",
   "execution_count": 136,
   "metadata": {},
   "outputs": [
    {
     "data": {
      "text/plain": [
       "(-1.5, 1.5)"
      ]
     },
     "execution_count": 136,
     "metadata": {},
     "output_type": "execute_result"
    },
    {
     "data": {
      "image/png": "[encoded data removed]",
      "text/plain": [
       "<Figure size 432x288 with 1 Axes>"
      ]
     },
     "metadata": {
      "needs_background": "light"
     },
     "output_type": "display_data"
    }
   ],
   "source": [
    "n = 1000\n",
    "limite = 1.5\n",
    "X = np.random.normal(0, 0.5, n)#El primer parametro es la media y el segundo parametro es la desviacion tipica\n",
    "Y = np.random.normal(0, 0.5, n)\n",
    "\n",
    "plt.scatter(X, Y)\n",
    "plt.xlim(limite*-1, limite)\n",
    "plt.ylim(limite*-1, limite)\n"
   ]
  },
  {
   "cell_type": "code",
   "execution_count": 92,
   "metadata": {},
   "outputs": [
    {
     "data": {
      "text/plain": [
       "array([-2.62352886e-01,  1.15993703e+00, -7.27092263e-01,  6.19920106e-01,\n",
       "       -9.73444772e-01, -1.59314213e+00,  1.18891806e+00,  1.46398692e+00,\n",
       "       -1.44355771e-01, -9.08831317e-01,  1.33565459e+00, -4.37853804e-01,\n",
       "       -1.48627385e-01, -1.09320146e+00,  1.44187321e+00,  1.46472699e+00,\n",
       "       -9.33519123e-01, -1.38747752e+00, -2.23005919e+00, -1.13014762e+00,\n",
       "       -7.04836160e-01, -6.32006657e-02, -3.51683575e-01, -5.79070717e-03,\n",
       "       -7.31673550e-01, -1.66783890e+00,  1.23226487e+00,  1.35336614e+00,\n",
       "       -4.45561455e-01, -1.82822054e+00,  1.15273525e+00, -5.42835651e-01,\n",
       "        1.07601700e+00,  4.21264082e-01,  1.74171398e-02,  3.95990614e-01,\n",
       "        3.04416240e-01, -2.49483447e-01, -5.99908071e-01,  8.42897647e-01,\n",
       "        3.36108577e-01,  4.17405256e-01,  3.50143986e-01,  7.17951971e-01,\n",
       "        4.81902884e-02, -3.08350402e-01, -9.68551848e-01, -4.89168031e-01,\n",
       "        6.16885313e-01,  1.81372210e-02, -2.92487985e-01, -9.00903559e-02,\n",
       "       -5.68304477e-01,  1.54978694e-01, -1.66322932e-01,  5.30106292e-01,\n",
       "       -1.64078088e-01,  6.76216704e-01, -1.08090485e-01, -2.28312545e+00,\n",
       "       -7.48406646e-01, -7.93247058e-01, -6.04778169e-01, -8.93372377e-01,\n",
       "       -8.95527451e-01,  1.26005702e+00, -2.10435348e-01,  1.67533670e-01,\n",
       "        1.98160272e-01,  7.58207627e-01,  1.16336471e-01,  9.81853969e-01,\n",
       "       -1.54909377e+00, -6.04683095e-01, -1.97996679e+00,  6.07432189e-01,\n",
       "       -1.54162035e+00,  9.84595985e-01,  1.62285923e+00,  3.77254472e-01,\n",
       "        1.45933790e+00,  1.04607132e+00, -9.96723914e-01, -8.57018318e-01,\n",
       "       -1.24827175e-01, -7.46199264e-01, -5.88276778e-01, -1.32913067e+00,\n",
       "       -5.77185528e-01, -1.52132873e+00, -2.24749333e-01, -1.60467750e+00,\n",
       "        8.72436279e-01,  7.47588041e-01, -1.50395181e+00, -9.24643124e-01,\n",
       "        3.94387204e-01, -5.86820299e-01,  4.60726582e-01, -1.37555681e+00,\n",
       "       -6.48103889e-01, -1.19526119e+00,  1.91449815e-01, -1.24636822e+00,\n",
       "       -8.14426519e-01, -1.05908672e-01,  5.38531260e-01,  2.27690158e-01,\n",
       "       -7.36459657e-01,  2.27238786e-01, -6.78919197e-01,  3.03473951e-01,\n",
       "        1.00366024e+00,  6.12241011e-02,  4.97510427e-01, -1.35877396e+00,\n",
       "        4.60170366e-01,  8.80089777e-01,  5.41760495e-01, -1.45688465e-01,\n",
       "        1.06517699e+00, -1.99054386e-01, -1.00059072e+00, -1.19632912e+00,\n",
       "        5.94671850e-01, -1.62387612e+00, -3.17072405e-01,  1.37625108e-01,\n",
       "        4.69976420e-01,  1.26941650e+00,  1.90512632e+00, -2.82081313e+00,\n",
       "        8.38210886e-01, -1.02749112e+00, -4.42893238e-01, -4.00607352e-01,\n",
       "       -3.45710829e-01,  1.53670617e+00, -1.36409005e-01,  9.09776846e-01,\n",
       "       -1.33102379e-01, -8.06406325e-01,  9.50852966e-01, -4.64732929e-01,\n",
       "        4.41540246e-01,  1.01591558e+00, -1.23291559e+00,  1.57876661e+00,\n",
       "       -4.31254958e-01,  9.00372482e-01,  1.11537169e-01,  2.19569153e-01,\n",
       "       -6.63482317e-01, -8.57178162e-01,  7.43177287e-01, -7.69434069e-01,\n",
       "        1.13410076e+00, -1.41790226e+00, -3.59151745e-02,  2.54595411e+00,\n",
       "        1.34845301e+00, -1.01057064e+00,  1.73206053e+00, -5.09399585e-01,\n",
       "        6.62626577e-01,  3.80813203e-02, -1.74923118e+00, -7.68120846e-01,\n",
       "        9.64772835e-01, -8.42016879e-01,  3.14112600e-01,  1.39631021e-01,\n",
       "        2.95184663e-01, -3.33066154e-01, -1.70756591e+00,  4.12458721e-01,\n",
       "       -4.05100220e-01, -9.76589780e-02,  3.05569884e-01, -2.54208860e+00,\n",
       "        1.24514848e+00,  5.10301674e-01, -2.59226945e-01, -1.58116154e+00,\n",
       "       -1.25968616e+00, -9.64263439e-01,  1.21928137e+00, -1.20477419e-01,\n",
       "        1.04634894e+00,  2.15595561e-02,  1.09459705e+00,  5.89863997e-01,\n",
       "       -4.15317826e-01,  6.97761245e-01, -6.35123572e-01, -1.54226132e+00,\n",
       "        7.74110373e-01,  2.08181894e-01, -8.96709516e-01,  2.40560926e-01,\n",
       "        1.28816788e+00, -1.67041836e+00,  6.72778432e-01, -1.68290572e+00,\n",
       "       -1.58221955e+00, -7.24906235e-02,  3.30929255e-01, -2.22794793e-01,\n",
       "        2.20293410e+00,  5.92868981e-01, -8.29082688e-01,  8.69200952e-02,\n",
       "       -1.31308585e+00,  9.08044646e-01, -4.80938619e-01, -1.16085736e+00,\n",
       "       -1.71849365e-01, -3.23556997e-01,  1.22485853e+00, -4.56043613e-01,\n",
       "       -6.88567607e-01, -2.38892683e-01, -1.24252771e+00,  1.37099057e-01,\n",
       "        2.58322765e-01,  1.12238792e+00,  4.38241404e-01,  7.13051485e-01,\n",
       "       -1.38326483e+00,  1.79482157e-01,  1.51251170e+00, -6.02971604e-01,\n",
       "        2.73351917e-01,  2.24964272e-01,  2.47640889e+00,  2.24110114e+00,\n",
       "       -1.44043398e+00, -5.30484544e-01,  1.17440510e+00, -8.32279772e-02,\n",
       "       -3.29289993e-01, -1.81055713e+00, -7.04981180e-01, -7.74877853e-01,\n",
       "       -2.97784482e-01,  1.64394172e+00,  1.51949147e+00,  1.22245882e+00,\n",
       "        1.12224612e+00,  4.89045743e-01,  2.12212460e-01,  6.08219891e-01,\n",
       "        2.92418222e-01, -1.21277228e+00,  1.46233657e+00,  1.93104758e-01,\n",
       "       -2.73431819e-01, -1.26197505e+00, -8.23387340e-01, -9.99181362e-02,\n",
       "       -1.86617678e+00,  3.63549478e-01,  5.19374105e-01, -7.10669105e-01,\n",
       "        1.55400029e+00,  6.60020974e-01, -5.06863903e-01,  2.34502888e+00,\n",
       "       -1.16129703e-01,  8.78733375e-01, -7.09354695e-01, -5.67859650e-01,\n",
       "       -6.78100775e-01, -1.05768314e+00,  1.97579485e-01, -9.56479783e-01,\n",
       "        8.62218790e-01, -4.06034748e-02, -2.14830107e-01, -6.30226772e-01,\n",
       "        2.63994537e-02, -9.28220730e-01,  5.48413882e-01,  9.71582897e-01,\n",
       "        2.45291274e-01,  1.33303953e+00, -6.68691681e-01, -5.63349394e-01,\n",
       "        8.00948881e-01, -3.41652230e-01,  1.77257765e-01,  1.20222087e+00,\n",
       "        5.25357626e-01, -2.89969079e-01, -7.47807182e-01, -2.63020077e+00,\n",
       "       -1.91956524e+00, -8.15966116e-02,  1.14027734e+00, -7.66120746e-02,\n",
       "        7.02779368e-01, -1.03821447e+00, -1.69587288e+00, -2.26382801e-01,\n",
       "       -1.66124222e+00,  8.04984356e-01,  7.19901098e-01,  3.05131131e-01,\n",
       "        5.23303449e-01, -1.13173151e+00,  1.72663616e+00, -9.57306441e-01,\n",
       "        9.71120963e-01, -5.56591708e-01, -9.08148313e-01, -2.17326428e+00,\n",
       "       -1.23460538e-01, -1.85141378e+00, -2.90543781e-01,  1.65067297e+00,\n",
       "        1.72833680e+00, -1.68342575e+00,  4.85571024e-01, -6.91585831e-01,\n",
       "       -2.65622915e+00,  6.61345921e-01, -1.97845582e+00,  1.13072832e+00,\n",
       "        5.85727322e-02, -6.09575900e-01, -2.91932739e-01, -5.13537529e-01,\n",
       "       -1.16086190e+00,  3.52576032e+00, -1.09080974e+00,  2.65811918e-01,\n",
       "        9.68621017e-01,  1.37905919e-01,  1.33671758e+00, -3.31226209e-01,\n",
       "       -1.09640326e-01,  2.21719797e-01, -9.87880927e-02, -2.06613598e-01,\n",
       "        6.16229723e-01,  5.49246387e-01, -3.67492248e-01,  1.96004324e-01,\n",
       "       -2.69886615e-01, -1.98575549e-01,  2.57892587e+00,  7.99092751e-01,\n",
       "        2.59536472e-01,  7.64256411e-01,  2.38334937e-01,  1.14423748e+00,\n",
       "       -1.07673253e-01, -9.68148075e-01, -1.46744761e+00,  1.18288740e+00,\n",
       "       -1.04375501e+00, -2.45101240e+00, -1.32156741e+00, -2.92307079e+00,\n",
       "       -1.25081013e+00,  1.86382079e-01,  5.67810889e-01,  1.67445938e+00,\n",
       "        4.88561915e-01, -1.51443349e-02,  2.51236621e-01, -1.42223596e+00,\n",
       "        5.84809740e-01, -8.83545636e-02,  8.44607982e-01, -5.85880914e-01,\n",
       "       -1.00714933e+00, -1.37317176e+00,  4.94521034e-01, -7.40868181e-01,\n",
       "        1.69106277e-01, -2.91640118e-01, -3.16021781e-01, -4.37125963e-01,\n",
       "       -2.15121712e+00,  4.52767732e-01,  2.27389941e+00,  1.18759423e+00,\n",
       "        2.13548711e+00,  9.88789037e-01, -4.88730804e-01,  2.75177889e-01,\n",
       "       -3.15259505e-01, -1.99372900e+00,  3.12489839e-01, -8.25011687e-01,\n",
       "        9.37809222e-01, -5.21266273e-01,  2.30422183e+00, -9.23088061e-01,\n",
       "       -1.26716844e+00, -6.51216936e-01, -3.13277730e-01,  7.31849135e-01,\n",
       "        5.34132854e-01, -6.17748511e-01,  5.25024741e-01, -3.19965911e-01,\n",
       "       -5.78075383e-01, -5.31469013e-01, -1.97883596e+00, -9.16487220e-01,\n",
       "        1.46781587e+00,  1.14998855e+00,  1.28874819e-01,  1.13277188e+00,\n",
       "        4.57023491e-01,  1.01112411e+00,  3.80953829e-01,  3.15160521e-01,\n",
       "       -1.31328956e+00, -1.22978782e+00,  2.13705782e-02,  1.20619836e+00,\n",
       "       -1.49156822e+00, -4.17255454e-01,  3.70611891e-01, -5.35607812e-01,\n",
       "        3.56890291e-01,  7.69864453e-02,  3.33677516e-01,  2.96905975e-01,\n",
       "        1.97354594e-01, -2.61716550e-01, -8.32680519e-01,  1.91695791e+00,\n",
       "        9.14225321e-01, -5.75853184e-01, -1.78158390e+00, -5.32954862e-01,\n",
       "        8.30248357e-01, -1.25946255e+00, -6.18525264e-01,  9.00790642e-01,\n",
       "        6.72079757e-01, -4.34473947e-01,  1.10958140e-02, -8.04319270e-01,\n",
       "        8.90236772e-01,  1.82019057e-02, -6.87478945e-01, -1.96141992e+00,\n",
       "        1.42426028e+00, -5.96275664e-01,  7.27586347e-01,  8.65589707e-02,\n",
       "       -2.15833312e-01, -3.14863767e-01, -1.69418954e+00, -3.46842758e-01,\n",
       "       -9.70745370e-02,  1.55017187e+00,  6.93730131e-01,  6.76410058e-02,\n",
       "        8.95252318e-02, -4.94219461e-01, -2.61980206e-01, -1.65375217e+00,\n",
       "       -1.05574051e+00, -1.05046377e-01, -1.83669787e+00,  7.30264922e-01,\n",
       "       -1.07336708e-01,  1.74342322e-01, -3.99408473e-01, -1.25370006e+00,\n",
       "       -1.17224620e+00,  1.43576715e+00,  1.23657739e+00, -3.77513356e-01,\n",
       "       -6.05061100e-01,  1.12442878e+00,  6.29830754e-01,  7.28317676e-01,\n",
       "        1.99934863e+00,  1.80155369e+00,  1.54138014e+00, -8.79148980e-01,\n",
       "        4.14764900e-01,  1.20431330e+00,  2.92874358e-01,  1.37737901e+00,\n",
       "       -4.35603825e-01, -2.06347787e-01, -1.17221833e+00, -2.35171857e+00,\n",
       "       -1.12357272e+00, -5.42756774e-01,  4.13364854e-01, -1.55904552e+00,\n",
       "        1.48907624e+00,  8.60851501e-01,  1.36071096e-01,  6.41086479e-01,\n",
       "       -1.01692754e+00,  2.82069864e-01, -4.82830183e-01,  7.03433563e-01,\n",
       "        1.58188628e-01, -2.06511307e+00,  5.06543599e-01,  1.89839530e-01,\n",
       "        1.05776331e+00, -6.86461812e-02, -1.97828554e+00, -5.43414967e-01,\n",
       "        8.30197554e-01, -1.62054515e+00, -6.61329378e-01,  1.90782923e+00,\n",
       "        6.18775823e-02, -7.01944957e-01,  2.49857037e-01, -3.10054541e-01,\n",
       "        1.41905481e+00, -1.18261384e+00, -2.15393588e-03, -1.08000021e+00,\n",
       "        1.66952370e+00,  9.17598507e-01,  1.13609854e+00, -3.58426580e-01,\n",
       "        3.39842617e-01,  8.10364807e-01, -2.22042180e+00,  5.92893931e-01,\n",
       "        2.74795680e-01,  7.70782849e-01, -3.41754853e-01,  1.10501290e+00,\n",
       "        6.94682488e-01,  2.71320526e-01,  1.73828534e-01, -1.03149993e+00,\n",
       "       -1.09558104e+00,  3.42298638e-01, -7.03505521e-01, -1.07511461e+00,\n",
       "        1.79212357e+00, -4.24253976e-01, -2.97390462e-01,  1.53114720e+00,\n",
       "        6.35021872e-01,  2.63471154e-01,  2.15902175e-02,  2.01701986e+00,\n",
       "       -5.86023183e-01, -9.35199819e-01, -8.18418604e-01,  2.10761778e-01,\n",
       "       -6.61418550e-02,  3.88254294e-02,  1.00709920e+00,  1.85628815e-01,\n",
       "        4.54511766e-01,  2.88644477e-01, -1.25496740e+00, -6.37539985e-01,\n",
       "       -3.74360358e-01,  3.68237728e-01,  2.28236274e-02, -2.83594803e-01,\n",
       "        8.75721531e-01,  3.58681603e-01, -1.82921089e+00,  4.75610692e-01,\n",
       "       -5.68958024e-01,  6.62225562e-01, -7.16124308e-01,  6.56992135e-01,\n",
       "       -5.55982355e-01,  3.03791915e-01,  3.59904698e-02, -2.34072379e-01,\n",
       "        8.85989042e-01, -2.76201498e-01, -6.71974845e-01,  7.06789202e-01,\n",
       "        1.04433012e-01, -2.04690031e+00,  1.88049452e+00,  6.16520158e-01,\n",
       "       -5.18973595e-01,  4.90500398e-01,  5.12042164e-01, -1.11112470e-01,\n",
       "       -4.30854888e-01,  5.01443583e-01, -8.64909162e-01, -4.61026457e-01,\n",
       "        1.21732866e+00, -1.36489691e+00,  6.38852213e-01,  2.97513553e+00,\n",
       "        9.60590980e-01, -6.92663298e-02,  7.25650079e-01,  1.63299448e+00,\n",
       "       -1.70818898e+00, -1.37132088e+00,  1.99629246e+00,  1.90068484e+00,\n",
       "       -6.04038345e-01, -1.25477035e+00,  4.92773215e-02,  3.32907909e-01,\n",
       "       -2.26144266e+00, -6.77446448e-01,  5.68169132e-01,  1.29883678e-01,\n",
       "        1.88730412e+00,  1.54845516e-01, -2.45121306e-01,  2.35218614e-01,\n",
       "       -9.72988401e-01,  9.45009097e-01, -3.25574072e-01, -1.01636027e+00,\n",
       "       -3.13818275e-01,  6.69337027e-02, -4.90985106e-01,  4.12645544e-01,\n",
       "        6.59075520e-01, -1.37849690e-01, -1.32785621e+00,  1.03352382e+00,\n",
       "       -1.92265915e+00, -2.56338389e-01,  4.62692008e-01, -3.69859960e-01,\n",
       "       -8.52595838e-01, -6.95057786e-01, -1.83728326e+00, -3.28284322e-02,\n",
       "       -2.10935876e-01,  7.80603180e-01,  5.26888720e-01,  7.64223232e-01,\n",
       "       -6.13398455e-01, -1.02208942e+00, -4.54706034e-01,  1.18403003e-01,\n",
       "       -1.99621871e+00,  1.67896693e+00, -1.25407461e+00,  8.52501995e-01,\n",
       "       -8.23853219e-01, -1.37922290e+00, -1.69413841e+00,  5.05676124e-01,\n",
       "        1.35377724e+00,  1.73755426e-01, -4.88979151e-01,  1.53812443e-01,\n",
       "       -2.58029878e-01, -1.25866686e+00,  9.83148023e-02,  6.43842577e-01,\n",
       "        7.86205102e-01,  1.10836105e+00, -5.67232662e-01,  1.94571935e-01,\n",
       "        4.18936718e-01,  4.48254274e-01, -7.86658114e-02,  4.90832401e-01,\n",
       "        1.36879833e+00,  8.84755107e-01, -1.54036101e+00, -1.70194769e-01,\n",
       "        1.89631568e+00, -6.70938096e-02, -1.12609864e+00, -1.37441644e+00,\n",
       "       -1.01936880e+00,  1.14099601e-02,  2.47264230e-02,  4.27337454e-01,\n",
       "       -8.08894300e-01, -1.78637206e+00, -3.32055153e-01, -1.14380153e+00,\n",
       "        7.82313218e-01, -2.27068836e+00,  1.35724622e+00,  9.02754465e-01,\n",
       "       -1.62765023e+00, -5.01634115e-01, -3.60619729e-01, -1.13417436e+00,\n",
       "       -9.36335600e-02, -1.45141517e-01,  4.83980410e-01, -9.90897351e-01,\n",
       "       -5.90602170e-01, -1.14409849e+00, -1.97112952e+00,  8.45639309e-01,\n",
       "       -4.81257630e-02,  4.39407823e-01,  1.59534939e-01,  1.26975601e+00,\n",
       "        6.13544297e-01, -1.37502508e+00,  3.81646005e-01, -9.75126706e-02,\n",
       "        1.25887485e+00, -6.69427435e-01, -8.50006805e-01,  1.59326504e+00,\n",
       "        9.03267819e-01,  6.49200925e-01,  8.71576083e-01, -1.14492278e+00,\n",
       "        3.87877957e-01, -1.38779893e+00, -5.83152734e-01,  7.48396532e-01,\n",
       "       -6.78112923e-01, -3.75848099e-01, -1.61324486e+00, -3.43089931e-01,\n",
       "       -1.57225377e-01, -1.54519069e+00, -1.18893924e+00,  1.72412275e-01,\n",
       "        1.24837271e+00,  1.81149268e-01,  4.35152169e-01, -3.80831083e-01,\n",
       "       -1.54442573e+00,  1.16328628e+00, -4.21408603e-01, -1.95770396e+00,\n",
       "        1.01599649e+00,  7.13311576e-02, -4.80085075e-02,  1.22907186e+00,\n",
       "       -1.46769994e-01,  3.75854577e-01,  4.63312160e-01, -8.43466065e-01,\n",
       "       -6.40045737e-01, -2.31709869e+00, -1.48034302e+00,  1.12353574e+00,\n",
       "        2.27197049e+00,  9.46620106e-01,  5.79667861e-01, -3.92052618e-01,\n",
       "       -5.68038998e-01, -1.33723248e+00, -4.96627699e-01,  8.48912784e-01,\n",
       "        5.66910371e-01, -6.34162879e-01,  2.09981289e-01,  1.06397144e-01,\n",
       "       -1.63797073e+00, -9.71313871e-01,  3.98315070e-02, -3.66113035e-01,\n",
       "        5.63332807e-01, -1.07491301e+00,  3.33037381e-02, -1.72419959e-01,\n",
       "        4.90687539e-02,  1.57965849e+00, -3.25532027e-01, -1.15454442e+00,\n",
       "        1.33015198e+00,  7.99076281e-01,  4.46895185e-01,  1.04283379e-01,\n",
       "       -7.91751005e-01,  2.09502265e-02, -4.94151403e-02, -1.47106554e-01,\n",
       "       -3.19731056e-01,  1.13431319e-01,  1.33977342e+00,  1.42076516e+00,\n",
       "        6.53458671e-01, -8.95881515e-01,  1.06498581e+00, -1.15504613e+00,\n",
       "        4.26369200e-01, -7.75479012e-01,  7.63210937e-01,  4.38451435e-02,\n",
       "        1.27627948e-01, -1.64863420e+00,  4.28267548e-01, -7.77278772e-01,\n",
       "       -1.41793873e+00,  3.40425271e+00,  4.01420833e-01, -1.43046881e-01,\n",
       "        1.03113644e+00, -1.16810959e+00,  2.84134024e-01,  1.43328309e-02,\n",
       "       -4.63201819e-02,  1.35859322e+00,  1.53643923e+00, -2.83599749e-01,\n",
       "       -8.57369210e-01, -1.89496616e-01,  9.62166958e-02, -4.12840067e-02,\n",
       "        4.46454189e-01,  1.34196256e+00,  1.20997159e+00, -1.93193127e-01,\n",
       "        1.39027866e+00, -7.55794082e-01,  1.43506461e-02,  2.11810715e+00,\n",
       "       -1.51008559e+00,  9.87121421e-01, -6.53260814e-01,  1.55585317e+00,\n",
       "        4.47981715e-01, -1.23024563e+00, -4.36565195e-01, -1.63141554e+00,\n",
       "        6.74267791e-01,  3.78775599e-01,  2.20744439e-01, -4.49294587e-01,\n",
       "        9.01612583e-01, -7.77792573e-02,  1.04818581e+00, -1.43026117e-01,\n",
       "       -3.69972313e-01, -6.85892795e-01,  4.36242550e-01,  6.90450106e-01,\n",
       "       -3.40664060e-01, -4.64151254e-01,  2.93226608e-01,  1.23523275e-01,\n",
       "       -2.34220754e+00,  1.13010566e+00,  8.65674369e-01,  8.84958223e-01,\n",
       "        1.13246666e+00, -1.09282271e+00,  3.98708119e-01, -4.50968142e-01,\n",
       "       -1.73640460e+00,  8.00006036e-03,  4.85127770e-01, -1.49826415e-01,\n",
       "        7.51280185e-02, -1.51520317e+00, -6.82190168e-01, -4.29207705e-02,\n",
       "        7.53623514e-01, -5.97888697e-01,  9.87651139e-01, -8.86385701e-01,\n",
       "       -8.07395654e-01, -4.50325614e-01,  5.59786328e-01, -1.36385683e+00,\n",
       "       -5.69427966e-02,  7.73197890e-01, -1.21944331e+00, -2.60972069e-01,\n",
       "        1.24850659e+00, -8.24996281e-01,  9.99799482e-02,  7.60293573e-02,\n",
       "        5.54932816e-01, -3.09160490e-01, -3.11384137e-01, -1.49030126e+00,\n",
       "       -7.15455496e-01, -5.16850506e-01,  1.80725789e+00,  1.14176773e+00,\n",
       "       -4.19131917e-01,  4.53826055e-01, -1.78539687e+00, -1.29312480e+00,\n",
       "        3.72954292e-01,  1.19474810e+00, -5.57981747e-01,  3.80073481e-01,\n",
       "       -2.27152615e-01, -2.06385159e-01,  1.50002218e+00, -1.84729273e-01,\n",
       "       -1.57909160e+00, -7.56911587e-01,  4.49271155e-01, -7.94946407e-01,\n",
       "       -3.83058639e-01,  8.90423140e-01, -3.73185596e-01,  1.01602142e-01,\n",
       "       -8.97201710e-01,  4.91148311e-01,  7.67409513e-01, -1.49530971e+00,\n",
       "       -8.12381230e-01,  7.96476134e-01, -5.22691173e-01,  2.44720362e-01,\n",
       "       -5.37978256e-01, -1.74835660e-01,  2.44123991e-02,  2.04338802e-01,\n",
       "        1.05386894e+00,  9.23061569e-02,  6.06108100e-01, -1.84051259e-01,\n",
       "        1.45386836e+00, -1.72178262e-01,  1.22543175e+00,  3.16435864e+00,\n",
       "        1.00252229e+00,  4.07907546e-01,  3.93380883e-01, -1.10476879e+00,\n",
       "       -2.94975386e-01,  8.89781879e-02, -1.49916113e-01,  3.63350618e-01,\n",
       "       -1.28236368e+00,  1.10847572e+00,  5.23548476e-01,  2.02945371e+00,\n",
       "       -8.54247151e-01,  7.92758497e-02,  5.61329872e-01,  1.49745669e+00,\n",
       "        6.08138896e-01,  1.22999233e-01, -1.25683490e+00,  2.26573077e-01,\n",
       "        9.64210651e-01,  6.82515263e-01,  6.53043871e-01, -1.62368731e+00,\n",
       "        1.48016273e+00, -1.27568715e+00, -1.35788620e+00, -3.08970964e-01,\n",
       "        4.37787595e-01,  2.42818179e+00,  4.35999127e-01, -5.24886723e-01,\n",
       "       -7.44763556e-03, -6.92542754e-01,  8.70429309e-01,  5.17761248e-01,\n",
       "        8.00786795e-01,  1.30361936e+00,  1.18744184e-01, -8.74257388e-01,\n",
       "       -9.93424387e-01, -1.46628765e+00, -2.77054478e-01, -4.18691431e-01,\n",
       "       -6.73125192e-01,  1.43660794e+00,  7.56403267e-01,  4.17765066e-01,\n",
       "        9.92005650e-01,  4.30152500e-01,  5.19324102e-01, -2.97265440e-01,\n",
       "        1.47708928e-01,  2.03673245e+00, -6.80157537e-01,  1.52287867e+00,\n",
       "       -1.40974778e-02,  2.87821138e-01,  7.50995696e-01, -1.12001266e+00,\n",
       "        4.95500782e-01, -1.40534187e+00,  5.87241743e-01,  7.52855088e-01,\n",
       "       -2.95223233e-01, -1.92115500e+00,  6.87496795e-01,  6.78919233e-01])"
      ]
     },
     "execution_count": 92,
     "metadata": {},
     "output_type": "execute_result"
    }
   ],
   "source": [
    "X"
   ]
  },
  {
   "cell_type": "code",
   "execution_count": 1,
   "metadata": {},
   "outputs": [
    {
     "ename": "NameError",
     "evalue": "name 'np' is not defined",
     "output_type": "error",
     "traceback": [
      "\u001b[1;31m---------------------------------------------------------------------------\u001b[0m",
      "\u001b[1;31mNameError\u001b[0m                                 Traceback (most recent call last)",
      "\u001b[1;32m<ipython-input-1-534b3fa66d56>\u001b[0m in \u001b[0;36m<module>\u001b[1;34m\u001b[0m\n\u001b[1;32m----> 1\u001b[1;33m \u001b[0mY\u001b[0m \u001b[1;33m=\u001b[0m \u001b[0mnp\u001b[0m\u001b[1;33m.\u001b[0m\u001b[0mones\u001b[0m\u001b[1;33m(\u001b[0m\u001b[1;36m100\u001b[0m\u001b[1;33m)\u001b[0m \u001b[1;33m*\u001b[0m\u001b[1;36m100\u001b[0m\u001b[1;33m\u001b[0m\u001b[1;33m\u001b[0m\u001b[0m\n\u001b[0m\u001b[0;32m      2\u001b[0m \u001b[0mY\u001b[0m\u001b[1;33m\u001b[0m\u001b[1;33m\u001b[0m\u001b[0m\n",
      "\u001b[1;31mNameError\u001b[0m: name 'np' is not defined"
     ]
    }
   ],
   "source": [
    "Y = np.ones(100) *100\n",
    "Y"
   ]
  },
  {
   "cell_type": "markdown",
   "metadata": {},
   "source": [
    "## Trabajando un poco con objetos"
   ]
  },
  {
   "cell_type": "code",
   "execution_count": 5,
   "metadata": {},
   "outputs": [
    {
     "name": "stdout",
     "output_type": "stream",
     "text": [
      "30\n"
     ]
    }
   ],
   "source": [
    "## Write a Python program to add two objects if both objects are an integer type.\n",
    "\n",
    "def add_numbers(a, b):\n",
    "    if not (isinstance(a, int) and isinstance(b, int)):\n",
    "         raise TypeError(\"Inputs must be integers\")\n",
    "    return a + b\n",
    "\n",
    "print(add_numbers(10, 20))"
   ]
  },
  {
   "cell_type": "markdown",
   "metadata": {},
   "source": [
    "## Vectores"
   ]
  },
  {
   "cell_type": "code",
   "execution_count": 6,
   "metadata": {},
   "outputs": [
    {
     "name": "stdout",
     "output_type": "stream",
     "text": [
      "6.324555320336759\n"
     ]
    }
   ],
   "source": [
    "#Write a Python program to compute the distance between the points (x1, y1) and (x2, y2).\n",
    "\n",
    "import math\n",
    "p1 = [4, 0]\n",
    "p2 = [6, 6]\n",
    "distance = math.sqrt( ((p1[0]-p2[0])**2)+((p1[1]-p2[1])**2) )\n",
    "\n",
    "print(distance)"
   ]
  },
  {
   "cell_type": "markdown",
   "metadata": {},
   "source": [
    "## Files"
   ]
  },
  {
   "cell_type": "code",
   "execution_count": 16,
   "metadata": {},
   "outputs": [
    {
     "name": "stdout",
     "output_type": "stream",
     "text": [
      "True\n"
     ]
    }
   ],
   "source": [
    "## Write a Python program to check whether a file exists.\n",
    "\n",
    "import os.path #Modulo para trabajar con rutas y archivos mas facilmente\n",
    "open('abc.txt', 'w') #Si no existe el file lo crea\n",
    "print(os.path.isfile('abc.txt')) #comprueba si se creo"
   ]
  },
  {
   "cell_type": "code",
   "execution_count": 18,
   "metadata": {},
   "outputs": [
    {
     "name": "stdout",
     "output_type": "stream",
     "text": [
      "Absolute file path:  C:\\Users\\moise\\Documents\\GitHub\\r-basic\\mis_scripts\\Scripts_Python\\path_fname\n"
     ]
    }
   ],
   "source": [
    "#  Write a Python program to get an absolute file path.\n",
    "def absolute_file_path(path_fname):\n",
    "        import os\n",
    "        return os.path.abspath('path_fname')        \n",
    "print(\"Absolute file path: \",absolute_file_path(\"abc.txt\"))"
   ]
  },
  {
   "cell_type": "code",
   "execution_count": 22,
   "metadata": {},
   "outputs": [
    {
     "name": "stdout",
     "output_type": "stream",
     "text": [
      "Last modified: Mon Mar  2 19:54:50 2020\n",
      "Created: Fri Feb 28 17:41:25 2020\n"
     ]
    }
   ],
   "source": [
    "#  Write a Python program to get file creation and modification date/times.\n",
    "import os.path, time\n",
    "print(\"Last modified: %s\" % time.ctime(os.path.getmtime(\"abc.txt\")))\n",
    "print(\"Created: %s\" % time.ctime(os.path.getctime(\"abc.txt\")))"
   ]
  },
  {
   "cell_type": "code",
   "execution_count": 26,
   "metadata": {},
   "outputs": [
    {
     "name": "stdout",
     "output_type": "stream",
     "text": [
      "ab3c.txt\n",
      "abc.txt\n",
      "prueba.txt\n"
     ]
    }
   ],
   "source": [
    "# Write a Python program to sort files by date.\n",
    "import glob\n",
    "import os\n",
    "\n",
    "files = glob.glob(\"*.txt\") #Para elegir solo los archivos txt\n",
    "files.sort(key=os.path.getmtime)\n",
    "print(\"\\n\".join(files))"
   ]
  },
  {
   "cell_type": "code",
   "execution_count": 27,
   "metadata": {},
   "outputs": [
    {
     "name": "stdout",
     "output_type": "stream",
     "text": [
      "Sat Feb  8 00:43:19 2020 Math Python.ipynb\n",
      "Sat Feb  8 01:32:26 2020 Entrada y salida de datos.ipynb\n",
      "Sat Feb  8 14:44:30 2020 Funciones en Python.ipynb\n",
      "Sun Feb  9 21:59:34 2020 Prueba Reticulate 1.ipynb\n",
      "Thu Feb 13 23:59:44 2020  Las listas.ipynb\n",
      "Fri Feb 14 00:29:53 2020 Los bucles.ipynb\n",
      "Fri Feb 14 01:42:30 2020 Las tuplas.ipynb\n",
      "Fri Feb 14 02:02:00 2020 Los diccionarios.ipynb\n",
      "Fri Feb 14 02:21:11 2020 Numpy y los tipos de datos.ipynb\n",
      "Fri Feb 14 23:39:20 2020 Propiedades de los arrays.ipynb\n",
      "Sat Feb 15 00:00:46 2020 Copias y vistas de arrays.ipynb\n",
      "Sat Feb 15 00:16:48 2020 Funciones universales.ipynb\n",
      "Sat Feb 15 00:45:48 2020 Algebra lineal con python (matrices).ipynb\n",
      "Sat Feb 15 01:21:23 2020 Examen 1 Python .ipynb\n",
      "Mon Feb 17 01:08:56 2020 Matplotlib (Graficos en python).ipynb\n",
      "Wed Feb 19 18:00:49 2020 100 ejercicios de Numpy.ipynb\n",
      "Thu Feb 20 20:24:40 2020 Haciendo pruebas y practicas.ipynb\n",
      "Thu Feb 20 21:22:50 2020 Examen Graficos en Python.ipynb\n",
      "Thu Feb 20 22:30:43 2020 Los data frames.ipynb\n",
      "Mon Feb 24 18:54:23 2020 Examen data frames.ipynb\n",
      "Mon Feb 24 19:51:53 2020 Examen data frames - Otras respuestas.ipynb\n",
      "Tue Feb 25 21:04:14 2020 Los data frames 2.ipynb\n",
      "Wed Feb 26 17:45:33 2020 Analisis data twillio para decidir precio por llamada.ipynb\n",
      "Fri Feb 28 17:41:25 2020 abc.txt\n",
      "Fri Feb 28 17:43:45 2020 ab3c.txt\n",
      "Sun Mar  1 15:53:19 2020 Los supervivientes del Titanic con Python - practica con data frames cualitativos.ipynb\n",
      "Sun Mar  1 15:59:53 2020 05-titanic.ipynb\n",
      "Mon Mar  2 00:26:12 2020 Datos cualitativos - examen.ipynb\n",
      "Mon Mar  2 19:58:38 2020 prueba.txt\n"
     ]
    }
   ],
   "source": [
    "# Write a Python program to get a directory listing, sorted by creation date.\n",
    "    \n",
    "from stat import S_ISREG, ST_CTIME, ST_MODE\n",
    "import os, sys, time\n",
    "\n",
    "#Relative or absolute path to the directory\n",
    "dir_path = sys.argv[1] if len(sys.argv) == 2 else r'.'\n",
    "\n",
    "#all entries in the directory w/ stats\n",
    "data = (os.path.join(dir_path, fn) for fn in os.listdir(dir_path))\n",
    "data = ((os.stat(path), path) for path in data)\n",
    "\n",
    "# regular files, insert creation date\n",
    "data = ((stat[ST_CTIME], path)\n",
    "           for stat, path in data if S_ISREG(stat[ST_MODE]))\n",
    "\n",
    "for cdate, path in sorted(data):\n",
    "    print(time.ctime(cdate), os.path.basename(path))\n",
    "\t"
   ]
  },
  {
   "cell_type": "markdown",
   "metadata": {},
   "source": [
    "## Shell, platform y Python location"
   ]
  },
  {
   "cell_type": "code",
   "execution_count": 13,
   "metadata": {},
   "outputs": [
    {
     "name": "stdout",
     "output_type": "stream",
     "text": [
      "64\n"
     ]
    }
   ],
   "source": [
    "# Write a Python program to determine whether a Python shell is executing in 32bit or 64bit mode on OS?\n",
    "# For 32 bit it will return 32 and for 64 bit it will return 64\n",
    "import struct\n",
    "print(struct.calcsize(\"P\") * 8)"
   ]
  },
  {
   "cell_type": "code",
   "execution_count": 14,
   "metadata": {},
   "outputs": [
    {
     "name": "stdout",
     "output_type": "stream",
     "text": [
      "nt\n",
      "Windows\n",
      "10\n"
     ]
    }
   ],
   "source": [
    "# Write a Python program to get OS name, platform and release information.\n",
    "import platform\n",
    "import os\n",
    "print(os.name)\n",
    "print(platform.system())\n",
    "print(platform.release())"
   ]
  },
  {
   "cell_type": "code",
   "execution_count": 15,
   "metadata": {},
   "outputs": [
    {
     "name": "stdout",
     "output_type": "stream",
     "text": [
      "['C:\\\\Users\\\\moise\\\\Anaconda3', 'C:\\\\Users\\\\moise\\\\Anaconda3\\\\lib\\\\site-packages']\n"
     ]
    }
   ],
   "source": [
    "#  Write a Python program to locate Python site-packages.\n",
    "import site; \n",
    "print(site.getsitepackages())"
   ]
  },
  {
   "cell_type": "code",
   "execution_count": 18,
   "metadata": {},
   "outputs": [],
   "source": [
    "#  Write a python program to get the path and name of the file that is currently executing.\n",
    "import os\n",
    "print(\"Current File Name : \",os.path.realpath(__file__))"
   ]
  },
  {
   "cell_type": "code",
   "execution_count": 19,
   "metadata": {},
   "outputs": [
    {
     "name": "stdout",
     "output_type": "stream",
     "text": [
      "8\n"
     ]
    }
   ],
   "source": [
    "#  Write a Python program to find out the number of CPUs using.\n",
    "import multiprocessing\n",
    "print(multiprocessing.cpu_count())"
   ]
  },
  {
   "cell_type": "code",
   "execution_count": 25,
   "metadata": {},
   "outputs": [
    {
     "name": "stdout",
     "output_type": "stream",
     "text": [
      "[' Las listas.ipynb', '100 ejercicios de Numpy.ipynb', 'ab3c.txt', 'abc.txt', 'Algebra lineal con python (matrices).ipynb', 'Analisis data twillio para decidir precio por llamada.ipynb', 'Copias y vistas de arrays.ipynb', 'Entrada y salida de datos.ipynb', 'Examen 1 Python .ipynb', 'Examen data frames - Otras respuestas.ipynb', 'Examen data frames.ipynb', 'Examen Graficos en Python.ipynb', 'Funciones en Python.ipynb', 'Funciones universales.ipynb', 'Haciendo pruebas y practicas.ipynb', 'Las tuplas.ipynb', 'Los bucles.ipynb', 'Los data frames 2.ipynb', 'Los data frames.ipynb', 'Los diccionarios.ipynb', 'Math Python.ipynb', 'Matplotlib (Graficos en python).ipynb', 'Numpy y los tipos de datos.ipynb', 'Propiedades de los arrays.ipynb', 'Prueba Reticulate 1.ipynb']\n"
     ]
    }
   ],
   "source": [
    "#  Write a Python program to list all files in a directory in Python.\n",
    "from os import listdir\n",
    "from os.path import isfile, join\n",
    "files_list = [f for f in listdir('../Scripts_Python/') if isfile(join('../Scripts_Python/', f))]\n",
    "print(files_list);"
   ]
  },
  {
   "cell_type": "code",
   "execution_count": 29,
   "metadata": {},
   "outputs": [
    {
     "name": "stdout",
     "output_type": "stream",
     "text": [
      "3\n",
      "         39 function calls in 0.000 seconds\n",
      "\n",
      "   Ordered by: standard name\n",
      "\n",
      "   ncalls  tottime  percall  cumtime  percall filename:lineno(function)\n",
      "        1    0.000    0.000    0.000    0.000 <ipython-input-29-e10a517f2609>:7(sum)\n",
      "        1    0.000    0.000    0.000    0.000 <string>:1(<module>)\n",
      "        3    0.000    0.000    0.000    0.000 iostream.py:195(schedule)\n",
      "        2    0.000    0.000    0.000    0.000 iostream.py:307(_is_master_process)\n",
      "        2    0.000    0.000    0.000    0.000 iostream.py:320(_schedule_flush)\n",
      "        2    0.000    0.000    0.000    0.000 iostream.py:382(write)\n",
      "        3    0.000    0.000    0.000    0.000 iostream.py:93(_event_pipe)\n",
      "        3    0.000    0.000    0.000    0.000 socket.py:337(send)\n",
      "        3    0.000    0.000    0.000    0.000 threading.py:1038(_wait_for_tstate_lock)\n",
      "        3    0.000    0.000    0.000    0.000 threading.py:1080(is_alive)\n",
      "        3    0.000    0.000    0.000    0.000 threading.py:507(is_set)\n",
      "        1    0.000    0.000    0.000    0.000 {built-in method builtins.exec}\n",
      "        2    0.000    0.000    0.000    0.000 {built-in method builtins.isinstance}\n",
      "        1    0.000    0.000    0.000    0.000 {built-in method builtins.print}\n",
      "        2    0.000    0.000    0.000    0.000 {built-in method nt.getpid}\n",
      "        3    0.000    0.000    0.000    0.000 {method 'acquire' of '_thread.lock' objects}\n",
      "        3    0.000    0.000    0.000    0.000 {method 'append' of 'collections.deque' objects}\n",
      "        1    0.000    0.000    0.000    0.000 {method 'disable' of '_lsprof.Profiler' objects}\n",
      "\n",
      "\n"
     ]
    }
   ],
   "source": [
    "#  Write a Python program to determine profiling of Python programs.\n",
    "\n",
    "#Note: A profile is a set of statistics that describes how often and for how long various parts of the \n",
    "#program executed. These statistics can be formatted into reports via the pstats module.\n",
    "\n",
    "import cProfile\n",
    "def sum():\n",
    "    print(1+2)\n",
    "cProfile.run('sum()')"
   ]
  },
  {
   "cell_type": "code",
   "execution_count": 1,
   "metadata": {},
   "outputs": [
    {
     "name": "stdout",
     "output_type": "stream",
     "text": [
      "*----------------------------------*\n",
      "environ({'ALLUSERSPROFILE': 'C:\\\\ProgramData', 'APPDATA': 'C:\\\\Users\\\\moise\\\\AppData\\\\Roaming', 'COMMONPROGRAMFILES': 'C:\\\\Program Files\\\\Common Files', 'COMMONPROGRAMFILES(X86)': 'C:\\\\Program Files (x86)\\\\Common Files', 'COMMONPROGRAMW6432': 'C:\\\\Program Files\\\\Common Files', 'COMPUTERNAME': 'LAPTOP-RO2L04V3', 'COMSPEC': 'C:\\\\Windows\\\\system32\\\\cmd.exe', 'CONDA_DEFAULT_ENV': 'base', 'CONDA_EXE': 'C:\\\\Users\\\\moise\\\\Anaconda3\\\\Scripts\\\\conda.exe', 'CONDA_PROMPT_MODIFIER': '(base) ', 'CONDA_PYTHON_EXE': 'C:\\\\Users\\\\moise\\\\Anaconda3\\\\python.exe', 'CONDA_ROOT': 'C:\\\\Users\\\\moise\\\\Anaconda3', 'CONDA_SHLVL': '1', 'DRIVERDATA': 'C:\\\\Windows\\\\System32\\\\Drivers\\\\DriverData', 'HOMEDRIVE': 'C:', 'HOMEPATH': '\\\\Users\\\\moise', 'LOCALAPPDATA': 'C:\\\\Users\\\\moise\\\\AppData\\\\Local', 'LOGONSERVER': '\\\\\\\\LAPTOP-RO2L04V3', 'NUMBER_OF_PROCESSORS': '8', 'ONEDRIVE': 'C:\\\\Users\\\\moise\\\\OneDrive', 'ONEDRIVECONSUMER': 'C:\\\\Users\\\\moise\\\\OneDrive', 'OS': 'Windows_NT', 'PATH': 'C:\\\\Users\\\\moise\\\\Anaconda3;C:\\\\Users\\\\moise\\\\Anaconda3\\\\Library\\\\mingw-w64\\\\bin;C:\\\\Users\\\\moise\\\\Anaconda3\\\\Library\\\\usr\\\\bin;C:\\\\Users\\\\moise\\\\Anaconda3\\\\Library\\\\bin;C:\\\\Users\\\\moise\\\\Anaconda3\\\\Scripts;C:\\\\Users\\\\moise\\\\Anaconda3\\\\bin;C:\\\\Users\\\\moise\\\\Anaconda3\\\\condabin;C:\\\\Users\\\\moise\\\\Anaconda3;C:\\\\Users\\\\moise\\\\Anaconda3\\\\Library\\\\mingw-w64\\\\bin;C:\\\\Users\\\\moise\\\\Anaconda3\\\\Library\\\\usr\\\\bin;C:\\\\Users\\\\moise\\\\Anaconda3\\\\Library\\\\bin;C:\\\\Users\\\\moise\\\\Anaconda3\\\\Scripts;C:\\\\Windows\\\\system32;C:\\\\Windows;C:\\\\Windows\\\\System32\\\\Wbem;C:\\\\Windows\\\\System32\\\\WindowsPowerShell\\\\v1.0;C:\\\\Windows\\\\System32\\\\OpenSSH;C:\\\\Program Files\\\\Intel\\\\WiFi\\\\bin;C:\\\\Program Files\\\\Common Files\\\\Intel\\\\WirelessCommon;C:\\\\Program Files\\\\PuTTY;C:\\\\Program Files\\\\Git\\\\cmd;C:\\\\Users\\\\moise\\\\AppData\\\\Local\\\\Microsoft\\\\WindowsApps;C:\\\\Users\\\\moise\\\\AppData\\\\Local\\\\GitHubDesktop\\\\bin;C:\\\\Users\\\\moise\\\\AppData\\\\Roaming\\\\TinyTeX\\\\bin\\\\win32', 'PATHEXT': '.COM;.EXE;.BAT;.CMD;.VBS;.VBE;.JS;.JSE;.WSF;.WSH;.MSC', 'PROCESSOR_ARCHITECTURE': 'AMD64', 'PROCESSOR_IDENTIFIER': 'AMD64 Family 23 Model 24 Stepping 1, AuthenticAMD', 'PROCESSOR_LEVEL': '23', 'PROCESSOR_REVISION': '1801', 'PROGRAMDATA': 'C:\\\\ProgramData', 'PROGRAMFILES': 'C:\\\\Program Files', 'PROGRAMFILES(X86)': 'C:\\\\Program Files (x86)', 'PROGRAMW6432': 'C:\\\\Program Files', 'PROMPT': '(base) $P$G', 'PSMODULEPATH': 'C:\\\\Program Files\\\\WindowsPowerShell\\\\Modules;C:\\\\Windows\\\\system32\\\\WindowsPowerShell\\\\v1.0\\\\Modules', 'PUBLIC': 'C:\\\\Users\\\\Public', 'SESSIONNAME': 'Console', 'SYSTEMDRIVE': 'C:', 'SYSTEMROOT': 'C:\\\\Windows', 'TEMP': 'C:\\\\Users\\\\moise\\\\AppData\\\\Local\\\\Temp', 'TMP': 'C:\\\\Users\\\\moise\\\\AppData\\\\Local\\\\Temp', 'USERDOMAIN': 'LAPTOP-RO2L04V3', 'USERDOMAIN_ROAMINGPROFILE': 'LAPTOP-RO2L04V3', 'USERNAME': 'moise', 'USERPROFILE': 'C:\\\\Users\\\\moise', 'WINDIR': 'C:\\\\Windows', 'CONDA_PREFIX': 'C:\\\\Users\\\\moise\\\\Anaconda3', 'KERNEL_LAUNCH_TIMEOUT': '40', 'JPY_INTERRUPT_EVENT': '2992', 'IPY_INTERRUPT_EVENT': '2992', 'JPY_PARENT_PID': '2924', 'TERM': 'xterm-color', 'CLICOLOR': '1', 'PAGER': 'cat', 'GIT_PAGER': 'cat', 'MPLBACKEND': 'module://ipykernel.pylab.backend_inline'})\n",
      "*----------------------------------*\n"
     ]
    },
    {
     "ename": "KeyError",
     "evalue": "'HOME'",
     "output_type": "error",
     "traceback": [
      "\u001b[1;31m---------------------------------------------------------------------------\u001b[0m",
      "\u001b[1;31mKeyError\u001b[0m                                  Traceback (most recent call last)",
      "\u001b[1;32m<ipython-input-1-1235cf55ef9c>\u001b[0m in \u001b[0;36m<module>\u001b[1;34m\u001b[0m\n\u001b[0;32m      6\u001b[0m \u001b[0mprint\u001b[0m\u001b[1;33m(\u001b[0m\u001b[1;34m'*----------------------------------*'\u001b[0m\u001b[1;33m)\u001b[0m\u001b[1;33m\u001b[0m\u001b[1;33m\u001b[0m\u001b[0m\n\u001b[0;32m      7\u001b[0m \u001b[1;31m# Access a particular environment variable\u001b[0m\u001b[1;33m\u001b[0m\u001b[1;33m\u001b[0m\u001b[1;33m\u001b[0m\u001b[0m\n\u001b[1;32m----> 8\u001b[1;33m \u001b[0mprint\u001b[0m\u001b[1;33m(\u001b[0m\u001b[0mos\u001b[0m\u001b[1;33m.\u001b[0m\u001b[0menviron\u001b[0m\u001b[1;33m[\u001b[0m\u001b[1;34m'HOME'\u001b[0m\u001b[1;33m]\u001b[0m\u001b[1;33m)\u001b[0m\u001b[1;33m\u001b[0m\u001b[1;33m\u001b[0m\u001b[0m\n\u001b[0m\u001b[0;32m      9\u001b[0m \u001b[0mprint\u001b[0m\u001b[1;33m(\u001b[0m\u001b[1;34m'*----------------------------------*'\u001b[0m\u001b[1;33m)\u001b[0m\u001b[1;33m\u001b[0m\u001b[1;33m\u001b[0m\u001b[0m\n\u001b[0;32m     10\u001b[0m \u001b[0mprint\u001b[0m\u001b[1;33m(\u001b[0m\u001b[0mos\u001b[0m\u001b[1;33m.\u001b[0m\u001b[0menviron\u001b[0m\u001b[1;33m[\u001b[0m\u001b[1;34m'PATH'\u001b[0m\u001b[1;33m]\u001b[0m\u001b[1;33m)\u001b[0m\u001b[1;33m\u001b[0m\u001b[1;33m\u001b[0m\u001b[0m\n",
      "\u001b[1;32m~\\Anaconda3\\lib\\os.py\u001b[0m in \u001b[0;36m__getitem__\u001b[1;34m(self, key)\u001b[0m\n\u001b[0;32m    676\u001b[0m         \u001b[1;32mexcept\u001b[0m \u001b[0mKeyError\u001b[0m\u001b[1;33m:\u001b[0m\u001b[1;33m\u001b[0m\u001b[1;33m\u001b[0m\u001b[0m\n\u001b[0;32m    677\u001b[0m             \u001b[1;31m# raise KeyError with the original key value\u001b[0m\u001b[1;33m\u001b[0m\u001b[1;33m\u001b[0m\u001b[1;33m\u001b[0m\u001b[0m\n\u001b[1;32m--> 678\u001b[1;33m             \u001b[1;32mraise\u001b[0m \u001b[0mKeyError\u001b[0m\u001b[1;33m(\u001b[0m\u001b[0mkey\u001b[0m\u001b[1;33m)\u001b[0m \u001b[1;32mfrom\u001b[0m \u001b[1;32mNone\u001b[0m\u001b[1;33m\u001b[0m\u001b[1;33m\u001b[0m\u001b[0m\n\u001b[0m\u001b[0;32m    679\u001b[0m         \u001b[1;32mreturn\u001b[0m \u001b[0mself\u001b[0m\u001b[1;33m.\u001b[0m\u001b[0mdecodevalue\u001b[0m\u001b[1;33m(\u001b[0m\u001b[0mvalue\u001b[0m\u001b[1;33m)\u001b[0m\u001b[1;33m\u001b[0m\u001b[1;33m\u001b[0m\u001b[0m\n\u001b[0;32m    680\u001b[0m \u001b[1;33m\u001b[0m\u001b[0m\n",
      "\u001b[1;31mKeyError\u001b[0m: 'HOME'"
     ]
    }
   ],
   "source": [
    "#  Write a python program to access environment variables.\n",
    "import os\n",
    "# Access all environment variables \n",
    "print('*----------------------------------*')\n",
    "print(os.environ)\n",
    "print('*----------------------------------*')\n",
    "# Access a particular environment variable \n",
    "print(os.environ['HOME'])\n",
    "print('*----------------------------------*')\n",
    "print(os.environ['PATH'])\n",
    "print('*----------------------------------*')"
   ]
  },
  {
   "cell_type": "code",
   "execution_count": 2,
   "metadata": {},
   "outputs": [
    {
     "name": "stdout",
     "output_type": "stream",
     "text": [
      "moise\n"
     ]
    }
   ],
   "source": [
    "import getpass\n",
    "print(getpass.getuser())"
   ]
  },
  {
   "cell_type": "markdown",
   "metadata": {},
   "source": [
    "## Direccion IP privada"
   ]
  },
  {
   "cell_type": "code",
   "execution_count": 3,
   "metadata": {},
   "outputs": [
    {
     "name": "stdout",
     "output_type": "stream",
     "text": [
      "10.0.0.132\n"
     ]
    }
   ],
   "source": [
    "#  Write a Python to find local IP addresses using Python's stdlib.\n",
    "import socket\n",
    "print([l for l in ([ip for ip in socket.gethostbyname_ex(socket.gethostname())[2] \n",
    "if not ip.startswith(\"127.\")][:1], [[(s.connect(('8.8.8.8', 53)), \n",
    "s.getsockname()[0], s.close()) for s in [socket.socket(socket.AF_INET, \n",
    "socket.SOCK_DGRAM)]][0][1]]) if l][0][0])"
   ]
  },
  {
   "cell_type": "markdown",
   "metadata": {},
   "source": [
    "## Cronometro de metodos/funciones"
   ]
  },
  {
   "cell_type": "code",
   "execution_count": 15,
   "metadata": {},
   "outputs": [
    {
     "name": "stdout",
     "output_type": "stream",
     "text": [
      "\n",
      "Time to sum of 1 to  20000000  and required time to calculate is : (200000010000000, 2.1518499851226807)\n"
     ]
    }
   ],
   "source": [
    "# Write a program to get execution time (in seconds) for a Python method.\n",
    "import time\n",
    "def sum_of_n_numbers(n):\n",
    "    start_time = time.time()\n",
    "    s = 0\n",
    "    for i in range(1,n+1):\n",
    "        s = s + i\n",
    "    end_time = time.time()\n",
    "    return s,end_time-start_time\n",
    "\n",
    "n = 20000000\n",
    "print(\"\\nTime to sum of 1 to \",n,\" and required time to calculate is :\",sum_of_n_numbers(n))"
   ]
  },
  {
   "cell_type": "markdown",
   "metadata": {},
   "source": [
    "## conseguir los detalles de un modulo"
   ]
  },
  {
   "cell_type": "code",
   "execution_count": 28,
   "metadata": {},
   "outputs": [
    {
     "name": "stdout",
     "output_type": "stream",
     "text": [
      "['__doc__', '__loader__', '__name__', '__package__', '__spec__', 'acos', 'acosh', 'asin', 'asinh', 'atan', 'atan2', 'atanh', 'ceil', 'copysign', 'cos', 'cosh', 'degrees', 'e', 'erf', 'erfc', 'exp', 'expm1', 'fabs', 'factorial', 'floor', 'fmod', 'frexp', 'fsum', 'gamma', 'gcd', 'hypot', 'inf', 'isclose', 'isfinite', 'isinf', 'isnan', 'ldexp', 'lgamma', 'log', 'log10', 'log1p', 'log2', 'modf', 'nan', 'pi', 'pow', 'radians', 'remainder', 'sin', 'sinh', 'sqrt', 'tan', 'tanh', 'tau', 'trunc']\n"
     ]
    }
   ],
   "source": [
    "# Write a Python program to get the details of math module.\n",
    "# Imports the math module\n",
    "import math            \n",
    "#Sets everything to a list of math module\n",
    "math_ls = dir(math) # \n",
    "print(math_ls)"
   ]
  },
  {
   "cell_type": "markdown",
   "metadata": {},
   "source": [
    "## Los diferentes usos de Numpy random "
   ]
  },
  {
   "cell_type": "code",
   "execution_count": 3,
   "metadata": {},
   "outputs": [
    {
     "data": {
      "text/plain": [
       "array([6, 2, 1, 5, 9, 7, 7, 6, 2, 3])"
      ]
     },
     "execution_count": 3,
     "metadata": {},
     "output_type": "execute_result"
    }
   ],
   "source": [
    "# np.random.randint(inicio,final,size) \n",
    "# sirve para indicar una cantidad de numeros aleatorios en un rango\n",
    "np.random.randint(1,10,10)"
   ]
  },
  {
   "cell_type": "code",
   "execution_count": 7,
   "metadata": {},
   "outputs": [
    {
     "data": {
      "text/plain": [
       "array([  5.74737831,   7.13496153,  -1.14539913,  -5.69155925,\n",
       "         9.7949194 ,  12.34576017,  -7.14553482,  -8.13317255,\n",
       "        15.85645317,  -9.07468427,  -3.55496647,  -4.77199795,\n",
       "        -2.19324261,   2.08147111, -15.36447686,  21.67221479,\n",
       "        11.74564042,   2.93681465,  -3.5507415 ,  -1.34970471,\n",
       "        -4.77674481,  -2.9555691 ,   2.63159677,   4.49282922,\n",
       "       -10.67087165,  12.70671246,  -7.1630012 ,  -3.02827686,\n",
       "        -2.89002295,  15.89233483,  -5.33789035,  -4.75294658,\n",
       "        10.19176047,   2.64090464,   4.35176998,  -4.61468001,\n",
       "         0.73345842,   5.25375001,   1.96755419, -21.54029317,\n",
       "        -5.39453702,  -0.76247769,   5.16165539,  -9.63743546,\n",
       "        -1.7848392 ,  -4.84713044, -16.95247073, -21.26541043,\n",
       "       -15.46163519, -12.99066008])"
      ]
     },
     "execution_count": 7,
     "metadata": {},
     "output_type": "execute_result"
    }
   ],
   "source": [
    "# np.random.normal(inicio,final,size) \n",
    "# sirve para indicar una cantidad de numeros aleatorios en un rango \n",
    "# PERO con una distribucion normal o campana de gauss\n",
    "#El primer parametro es el 'medio' o al menos la probabilidad mas alta\n",
    "#El segundo para metro es que tanto se dispersa, en este ejemplo es de 10 en 10\n",
    "#El tercer parametro es la cantidad de elementos random a generar\n",
    "\n",
    "np.random.normal(1,10,50)"
   ]
  },
  {
   "cell_type": "code",
   "execution_count": 15,
   "metadata": {},
   "outputs": [
    {
     "name": "stdout",
     "output_type": "stream",
     "text": [
      "\n",
      "\t 2 DIMENSIONES \n",
      "\t [[0.56400336 0.66957007 0.52131542 0.04851288]\n",
      " [0.82630608 0.93306751 0.16436214 0.29178907]\n",
      " [0.69474747 0.47332108 0.48436745 0.79494355]]\n",
      "\n",
      "\t 3 DIMENSIONES \n",
      "\t [[[0.25431958 0.23420973 0.31476613 0.3436266 ]\n",
      "  [0.7050809  0.15367399 0.13248573 0.41818595]\n",
      "  [0.99955024 0.21762056 0.22985474 0.99210873]]\n",
      "\n",
      " [[0.35046811 0.90878239 0.85580282 0.25442484]\n",
      "  [0.31140809 0.50571374 0.92255996 0.1356793 ]\n",
      "  [0.61532181 0.61799045 0.67453177 0.12798067]]\n",
      "\n",
      " [[0.75390398 0.10730862 0.74965961 0.48143918]\n",
      "  [0.78381568 0.9507697  0.42763392 0.31504792]\n",
      "  [0.78859367 0.76711346 0.3177558  0.10617425]]]\n"
     ]
    }
   ],
   "source": [
    "# np.random.rand(3, 4)\n",
    "# Crea un array de variables aleatorias de las dimensiones deseadas\n",
    "# Por ejemplo este tiene 3 filas y 4 columnas\n",
    "print(\"\\n\\t\",\"2 DIMENSIONES\",\"\\n\\t\",np.random.rand(3, 4))\n",
    "\n",
    "# Tambien puedes crear multidimensionales\n",
    "print(\"\\n\\t\",\"3 DIMENSIONES\",\"\\n\\t\",np.random.rand(3,3, 4))\n"
   ]
  },
  {
   "cell_type": "code",
   "execution_count": null,
   "metadata": {},
   "outputs": [],
   "source": []
  },
  {
   "cell_type": "code",
   "execution_count": null,
   "metadata": {},
   "outputs": [],
   "source": []
  },
  {
   "cell_type": "code",
   "execution_count": null,
   "metadata": {},
   "outputs": [],
   "source": []
  },
  {
   "cell_type": "code",
   "execution_count": null,
   "metadata": {},
   "outputs": [],
   "source": []
  },
  {
   "cell_type": "code",
   "execution_count": null,
   "metadata": {},
   "outputs": [],
   "source": []
  },
  {
   "cell_type": "code",
   "execution_count": null,
   "metadata": {},
   "outputs": [],
   "source": []
  },
  {
   "cell_type": "code",
   "execution_count": null,
   "metadata": {},
   "outputs": [],
   "source": []
  }
 ],
 "metadata": {
  "kernelspec": {
   "display_name": "Python 3",
   "language": "python",
   "name": "python3"
  },
  "language_info": {
   "codemirror_mode": {
    "name": "ipython",
    "version": 3
   },
   "file_extension": ".py",
   "mimetype": "text/x-python",
   "name": "python",
   "nbconvert_exporter": "python",
   "pygments_lexer": "ipython3",
   "version": "3.7.3"
  }
 },
 "nbformat": 4,
 "nbformat_minor": 2
}
