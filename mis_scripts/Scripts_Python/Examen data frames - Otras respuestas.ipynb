{
 "cells": [
  {
   "cell_type": "markdown",
   "metadata": {},
   "source": [
    "## Examen data frames - Otras respuestas"
   ]
  },
  {
   "cell_type": "code",
   "execution_count": 1,
   "metadata": {},
   "outputs": [],
   "source": [
    "import pandas as pd #lo primero es llamar a pandas\n",
    "import numpy as np"
   ]
  },
  {
   "cell_type": "code",
   "execution_count": 2,
   "metadata": {
    "scrolled": true
   },
   "outputs": [
    {
     "data": {
      "text/html": [
       "<div>\n",
       "<style scoped>\n",
       "    .dataframe tbody tr th:only-of-type {\n",
       "        vertical-align: middle;\n",
       "    }\n",
       "\n",
       "    .dataframe tbody tr th {\n",
       "        vertical-align: top;\n",
       "    }\n",
       "\n",
       "    .dataframe thead th {\n",
       "        text-align: right;\n",
       "    }\n",
       "</style>\n",
       "<table border=\"1\" class=\"dataframe\">\n",
       "  <thead>\n",
       "    <tr style=\"text-align: right;\">\n",
       "      <th></th>\n",
       "      <th>Unnamed: 0</th>\n",
       "      <th>pulso.antes</th>\n",
       "      <th>pulso.despues</th>\n",
       "      <th>hace.deporte</th>\n",
       "      <th>fuma</th>\n",
       "      <th>genero</th>\n",
       "      <th>altura</th>\n",
       "      <th>peso</th>\n",
       "      <th>tipo.actividad</th>\n",
       "    </tr>\n",
       "  </thead>\n",
       "  <tbody>\n",
       "    <tr>\n",
       "      <th>0</th>\n",
       "      <td>1</td>\n",
       "      <td>48</td>\n",
       "      <td>54</td>\n",
       "      <td>no</td>\n",
       "      <td>si</td>\n",
       "      <td>H</td>\n",
       "      <td>68.0</td>\n",
       "      <td>150</td>\n",
       "      <td>nula</td>\n",
       "    </tr>\n",
       "    <tr>\n",
       "      <th>1</th>\n",
       "      <td>2</td>\n",
       "      <td>54</td>\n",
       "      <td>56</td>\n",
       "      <td>no</td>\n",
       "      <td>si</td>\n",
       "      <td>H</td>\n",
       "      <td>69.0</td>\n",
       "      <td>145</td>\n",
       "      <td>moderada</td>\n",
       "    </tr>\n",
       "    <tr>\n",
       "      <th>2</th>\n",
       "      <td>3</td>\n",
       "      <td>54</td>\n",
       "      <td>50</td>\n",
       "      <td>no</td>\n",
       "      <td>no</td>\n",
       "      <td>H</td>\n",
       "      <td>69.0</td>\n",
       "      <td>160</td>\n",
       "      <td>moderada</td>\n",
       "    </tr>\n",
       "    <tr>\n",
       "      <th>3</th>\n",
       "      <td>4</td>\n",
       "      <td>58</td>\n",
       "      <td>70</td>\n",
       "      <td>si</td>\n",
       "      <td>no</td>\n",
       "      <td>H</td>\n",
       "      <td>72.0</td>\n",
       "      <td>145</td>\n",
       "      <td>moderada</td>\n",
       "    </tr>\n",
       "    <tr>\n",
       "      <th>4</th>\n",
       "      <td>5</td>\n",
       "      <td>58</td>\n",
       "      <td>58</td>\n",
       "      <td>no</td>\n",
       "      <td>no</td>\n",
       "      <td>H</td>\n",
       "      <td>66.0</td>\n",
       "      <td>135</td>\n",
       "      <td>intensa</td>\n",
       "    </tr>\n",
       "  </tbody>\n",
       "</table>\n",
       "</div>"
      ],
      "text/plain": [
       "   Unnamed: 0  pulso.antes  pulso.despues hace.deporte fuma genero  altura  \\\n",
       "0           1           48             54           no   si      H    68.0   \n",
       "1           2           54             56           no   si      H    69.0   \n",
       "2           3           54             50           no   no      H    69.0   \n",
       "3           4           58             70           si   no      H    72.0   \n",
       "4           5           58             58           no   no      H    66.0   \n",
       "\n",
       "   peso tipo.actividad  \n",
       "0   150           nula  \n",
       "1   145       moderada  \n",
       "2   160       moderada  \n",
       "3   145       moderada  \n",
       "4   135        intensa  "
      ]
     },
     "execution_count": 2,
     "metadata": {},
     "output_type": "execute_result"
    }
   ],
   "source": [
    "df = pd.read_csv(\"../../data/run.csv\", delimiter =\",\",decimal=\".\") \n",
    "df.head()"
   ]
  },
  {
   "cell_type": "markdown",
   "metadata": {},
   "source": [
    "## Rocio Cuesta Pedraz"
   ]
  },
  {
   "cell_type": "code",
   "execution_count": 5,
   "metadata": {},
   "outputs": [
    {
     "data": {
      "text/html": [
       "<div>\n",
       "<style scoped>\n",
       "    .dataframe tbody tr th:only-of-type {\n",
       "        vertical-align: middle;\n",
       "    }\n",
       "\n",
       "    .dataframe tbody tr th {\n",
       "        vertical-align: top;\n",
       "    }\n",
       "\n",
       "    .dataframe thead th {\n",
       "        text-align: right;\n",
       "    }\n",
       "</style>\n",
       "<table border=\"1\" class=\"dataframe\">\n",
       "  <thead>\n",
       "    <tr style=\"text-align: right;\">\n",
       "      <th></th>\n",
       "      <th>pulso.antes</th>\n",
       "      <th>pulso.despues</th>\n",
       "    </tr>\n",
       "    <tr>\n",
       "      <th>hace.deporte</th>\n",
       "      <th></th>\n",
       "      <th></th>\n",
       "    </tr>\n",
       "  </thead>\n",
       "  <tbody>\n",
       "    <tr>\n",
       "      <th>no</th>\n",
       "      <td>72.421053</td>\n",
       "      <td>72.315789</td>\n",
       "    </tr>\n",
       "    <tr>\n",
       "      <th>si</th>\n",
       "      <td>73.600000</td>\n",
       "      <td>92.514286</td>\n",
       "    </tr>\n",
       "  </tbody>\n",
       "</table>\n",
       "</div>"
      ],
      "text/plain": [
       "              pulso.antes  pulso.despues\n",
       "hace.deporte                            \n",
       "no              72.421053      72.315789\n",
       "si              73.600000      92.514286"
      ]
     },
     "execution_count": 5,
     "metadata": {},
     "output_type": "execute_result"
    }
   ],
   "source": [
    "## 3. Calcula el porcentaje medio de variación del pulso por minuto entre antes y después \n",
    "#de hacer ejercicio y compara el valor de los que hacen ejercicio habitualmente y los que no. \n",
    "#¿Observas mucha diferencia?\n",
    "\n",
    "df2= df[[\"hace.deporte\",\"pulso.antes\",\"pulso.despues\"]] #Para solo traerme estas columnas\n",
    "\n",
    "df2.groupby(\"hace.deporte\").mean()"
   ]
  },
  {
   "cell_type": "code",
   "execution_count": 6,
   "metadata": {},
   "outputs": [
    {
     "data": {
      "text/html": [
       "<div>\n",
       "<style scoped>\n",
       "    .dataframe tbody tr th:only-of-type {\n",
       "        vertical-align: middle;\n",
       "    }\n",
       "\n",
       "    .dataframe tbody tr th {\n",
       "        vertical-align: top;\n",
       "    }\n",
       "\n",
       "    .dataframe thead th {\n",
       "        text-align: right;\n",
       "    }\n",
       "</style>\n",
       "<table border=\"1\" class=\"dataframe\">\n",
       "  <thead>\n",
       "    <tr style=\"text-align: right;\">\n",
       "      <th></th>\n",
       "      <th>pulso.antes</th>\n",
       "      <th>pulso.despues</th>\n",
       "    </tr>\n",
       "    <tr>\n",
       "      <th>genero</th>\n",
       "      <th></th>\n",
       "      <th></th>\n",
       "    </tr>\n",
       "  </thead>\n",
       "  <tbody>\n",
       "    <tr>\n",
       "      <th>H</th>\n",
       "      <td>70.250000</td>\n",
       "      <td>83.208333</td>\n",
       "    </tr>\n",
       "    <tr>\n",
       "      <th>M</th>\n",
       "      <td>80.909091</td>\n",
       "      <td>112.818182</td>\n",
       "    </tr>\n",
       "  </tbody>\n",
       "</table>\n",
       "</div>"
      ],
      "text/plain": [
       "        pulso.antes  pulso.despues\n",
       "genero                            \n",
       "H         70.250000      83.208333\n",
       "M         80.909091     112.818182"
      ]
     },
     "execution_count": 6,
     "metadata": {},
     "output_type": "execute_result"
    }
   ],
   "source": [
    "## 4. Calcula el porcentaje medio de variación del pulso por minuto entre antes y después de hacer ejercicio  \n",
    "#para los estudiantes que hacen ejercicio habitualmente y compara el valor de los hombres con el de las \n",
    "#mujeres. ¿Observas mucha diferencia?\n",
    "\n",
    "hacedeporte =  df['hace.deporte']==\"si\" #Para crear un objeto abstracto de solo los que hacen deporte = si\n",
    "\n",
    "hacedeportedf = df[hacedeporte] #Para crear nuevo dataframe con solo esos datos\n",
    "\n",
    "hacedeportedf2= hacedeportedf[[\"genero\",\"pulso.antes\",\"pulso.despues\"]] #Para traerme solo estas columnas\n",
    "\n",
    "hacedeportedf2.groupby(\"genero\").mean()\n"
   ]
  },
  {
   "cell_type": "code",
   "execution_count": 7,
   "metadata": {},
   "outputs": [
    {
     "data": {
      "text/html": [
       "<div>\n",
       "<style scoped>\n",
       "    .dataframe tbody tr th:only-of-type {\n",
       "        vertical-align: middle;\n",
       "    }\n",
       "\n",
       "    .dataframe tbody tr th {\n",
       "        vertical-align: top;\n",
       "    }\n",
       "\n",
       "    .dataframe thead th {\n",
       "        text-align: right;\n",
       "    }\n",
       "</style>\n",
       "<table border=\"1\" class=\"dataframe\">\n",
       "  <thead>\n",
       "    <tr style=\"text-align: right;\">\n",
       "      <th></th>\n",
       "      <th>pulso.antes</th>\n",
       "      <th>pulso.despues</th>\n",
       "    </tr>\n",
       "    <tr>\n",
       "      <th>fuma</th>\n",
       "      <th></th>\n",
       "      <th></th>\n",
       "    </tr>\n",
       "  </thead>\n",
       "  <tbody>\n",
       "    <tr>\n",
       "      <th>no</th>\n",
       "      <td>71.707317</td>\n",
       "      <td>71.512195</td>\n",
       "    </tr>\n",
       "    <tr>\n",
       "      <th>si</th>\n",
       "      <td>74.250000</td>\n",
       "      <td>74.375000</td>\n",
       "    </tr>\n",
       "  </tbody>\n",
       "</table>\n",
       "</div>"
      ],
      "text/plain": [
       "      pulso.antes  pulso.despues\n",
       "fuma                            \n",
       "no      71.707317      71.512195\n",
       "si      74.250000      74.375000"
      ]
     },
     "execution_count": 7,
     "metadata": {},
     "output_type": "execute_result"
    }
   ],
   "source": [
    "## 5.Calcula el porcentaje medio de variación del pulso por minuto entre antes y después de hacer \n",
    "#ejercicio para los estudiantes que no hacen ejercicio habitualmente y compara el valor de los \n",
    "#fumadores con los no fumadores. ¿Observas mucha diferencia?\n",
    "\n",
    "nohacedeporte =  df['hace.deporte']==\"no\"\n",
    "\n",
    "nohacedeportedf = df[nohacedeporte]\n",
    "\n",
    "nohacedeportedf2=nohacedeportedf[[\"fuma\",\"pulso.antes\",\"pulso.despues\"]]\n",
    "\n",
    "nohacedeportedf2.groupby(\"fuma\").mean()"
   ]
  },
  {
   "cell_type": "code",
   "execution_count": 15,
   "metadata": {},
   "outputs": [
    {
     "data": {
      "text/html": [
       "<div>\n",
       "<style scoped>\n",
       "    .dataframe tbody tr th:only-of-type {\n",
       "        vertical-align: middle;\n",
       "    }\n",
       "\n",
       "    .dataframe tbody tr th {\n",
       "        vertical-align: top;\n",
       "    }\n",
       "\n",
       "    .dataframe thead th {\n",
       "        text-align: right;\n",
       "    }\n",
       "</style>\n",
       "<table border=\"1\" class=\"dataframe\">\n",
       "  <thead>\n",
       "    <tr style=\"text-align: right;\">\n",
       "      <th></th>\n",
       "      <th>pulso.antes</th>\n",
       "      <th>pulso.despues</th>\n",
       "    </tr>\n",
       "    <tr>\n",
       "      <th>tipo.actividad</th>\n",
       "      <th></th>\n",
       "      <th></th>\n",
       "    </tr>\n",
       "  </thead>\n",
       "  <tbody>\n",
       "    <tr>\n",
       "      <th>intensa</th>\n",
       "      <td>71.571429</td>\n",
       "      <td>72.190476</td>\n",
       "    </tr>\n",
       "    <tr>\n",
       "      <th>moderada</th>\n",
       "      <td>72.737705</td>\n",
       "      <td>82.786885</td>\n",
       "    </tr>\n",
       "    <tr>\n",
       "      <th>nula</th>\n",
       "      <td>48.000000</td>\n",
       "      <td>54.000000</td>\n",
       "    </tr>\n",
       "    <tr>\n",
       "      <th>suave</th>\n",
       "      <td>79.555556</td>\n",
       "      <td>82.222222</td>\n",
       "    </tr>\n",
       "  </tbody>\n",
       "</table>\n",
       "</div>"
      ],
      "text/plain": [
       "                pulso.antes  pulso.despues\n",
       "tipo.actividad                            \n",
       "intensa           71.571429      72.190476\n",
       "moderada          72.737705      82.786885\n",
       "nula              48.000000      54.000000\n",
       "suave             79.555556      82.222222"
      ]
     },
     "execution_count": 15,
     "metadata": {},
     "output_type": "execute_result"
    }
   ],
   "source": [
    "## 6. Calcula el porcentaje medio de variación del pulso por minuto entre antes y después de hacer \n",
    "#ejercicio de todos los estudiantes según el tipo de actividad física que realizan. \n",
    "#¿Observas alguna diferencia?\n",
    "\n",
    "df3=df[[\"tipo.actividad\",\"pulso.antes\",\"pulso.despues\"]]\n",
    "\n",
    "df3.groupby(\"tipo.actividad\").mean()\n",
    "\n"
   ]
  },
  {
   "cell_type": "markdown",
   "metadata": {},
   "source": [
    "## Víctor Caravaca Hernández"
   ]
  },
  {
   "cell_type": "code",
   "execution_count": 11,
   "metadata": {},
   "outputs": [
    {
     "data": {
      "text/plain": [
       "<matplotlib.axes._subplots.AxesSubplot at 0x1fe9919ff28>"
      ]
     },
     "execution_count": 11,
     "metadata": {},
     "output_type": "execute_result"
    },
    {
     "data": {
      "image/png": "[encoded data removed]",
      "text/plain": [
       "<Figure size 432x288 with 1 Axes>"
      ]
     },
     "metadata": {
      "needs_background": "light"
     },
     "output_type": "display_data"
    }
   ],
   "source": [
    "## 3. Calcula el porcentaje medio de variación del pulso por minuto entre antes y después \n",
    "#de hacer ejercicio y compara el valor de los que hacen ejercicio habitualmente y los que no. \n",
    "#¿Observas mucha diferencia?\n",
    "\n",
    "#primero creo una columna nueva con el porcentaje de variación de cada muestra.\n",
    "df['%VarPulso'] = df['pulso.despues']*100/df['pulso.antes']-100\n",
    "df.head()\n",
    "\n",
    "#Ahora caclulamos la media de la variación del pulso entre los que Sí y No  hacen deporte\n",
    "dfVarPulso = df.groupby('hace.deporte').aggregate({\n",
    "    '%VarPulso': np.mean\n",
    "})\n",
    "dfVarPulso\n",
    "#Generamos gráfico para ver las diferencias.\n",
    "dfVarPulso.plot(kind='bar', rot=0, grid=True)"
   ]
  },
  {
   "cell_type": "code",
   "execution_count": 16,
   "metadata": {},
   "outputs": [
    {
     "data": {
      "text/plain": [
       "<matplotlib.axes._subplots.AxesSubplot at 0x1b432ca1240>"
      ]
     },
     "execution_count": 16,
     "metadata": {},
     "output_type": "execute_result"
    },
    {
     "data": {
      "image/png": "[encoded data removed]",
      "text/plain": [
       "<Figure size 432x288 with 1 Axes>"
      ]
     },
     "metadata": {
      "needs_background": "light"
     },
     "output_type": "display_data"
    }
   ],
   "source": [
    "## 4. Calcula el porcentaje medio de variación del pulso por minuto entre antes y después de hacer ejercicio  \n",
    "#para los estudiantes que hacen ejercicio habitualmente y compara el valor de los hombres con el de las \n",
    "#mujeres. ¿Observas mucha diferencia?\n",
    "\n",
    "#Primero creamos una copia del df con todas las filas\n",
    "#eliminadas de las personas que NO hacen deporte\n",
    "\n",
    "df2 = df.drop(df[df['hace.deporte']=='no'].index)\n",
    "\n",
    "#Ahora calculamos la media de la variación del pulso por genero\n",
    "\n",
    "dfVarPulsoGenero = df2.groupby('genero').aggregate({\n",
    "    '%VarPulso': np.mean\n",
    "})\n",
    "dfVarPulsoGenero\n",
    "\n",
    "#Generamos gráfico para mostras la varicación de pulso entre generos\n",
    "#que hacen deporte\n",
    "dfVarPulsoGenero.plot(kind='bar', rot=0, grid=True)"
   ]
  },
  {
   "cell_type": "code",
   "execution_count": 17,
   "metadata": {},
   "outputs": [
    {
     "data": {
      "text/plain": [
       "<matplotlib.axes._subplots.AxesSubplot at 0x1b432d58240>"
      ]
     },
     "execution_count": 17,
     "metadata": {},
     "output_type": "execute_result"
    },
    {
     "data": {
      "image/png": "[encoded data removed]",
      "text/plain": [
       "<Figure size 432x288 with 1 Axes>"
      ]
     },
     "metadata": {
      "needs_background": "light"
     },
     "output_type": "display_data"
    }
   ],
   "source": [
    "## 5.Calcula el porcentaje medio de variación del pulso por minuto entre antes y después de hacer \n",
    "#ejercicio para los estudiantes que no hacen ejercicio habitualmente y compara el valor de los \n",
    "#fumadores con los no fumadores. ¿Observas mucha diferencia?\n",
    "\n",
    "#Creamos un nuevo DF eliminando las columnas de gente que Sí hace deporte\n",
    "\n",
    "df3 = df.drop(df[df['hace.deporte']=='si'].index)\n",
    "df3.head()\n",
    "\n",
    "#Ahora calculamos la media de variacón de pulso entre la gente\n",
    "#que si/no fuma mas No hace deporte\n",
    "dfVarPulsoFumaNoDep = df3.groupby('fuma').aggregate({\n",
    "    '%VarPulso': np.mean\n",
    "})\n",
    "dfVarPulsoFumaNoDep\n",
    "\n",
    "#Generamos gráfico para visualizar mejor los datos\n",
    "dfVarPulsoFumaNoDep.plot(kind='bar', rot=0, grid=True)"
   ]
  },
  {
   "cell_type": "code",
   "execution_count": 18,
   "metadata": {},
   "outputs": [
    {
     "data": {
      "text/plain": [
       "<matplotlib.axes._subplots.AxesSubplot at 0x1b432dc0128>"
      ]
     },
     "execution_count": 18,
     "metadata": {},
     "output_type": "execute_result"
    },
    {
     "data": {
      "image/png": "[encoded data removed]",
      "text/plain": [
       "<Figure size 432x288 with 1 Axes>"
      ]
     },
     "metadata": {
      "needs_background": "light"
     },
     "output_type": "display_data"
    }
   ],
   "source": [
    "## 6. Calcula el porcentaje medio de variación del pulso por minuto entre antes y después de hacer \n",
    "#ejercicio de todos los estudiantes según el tipo de actividad física que realizan. \n",
    "#¿Observas alguna diferencia?\n",
    "\n",
    "#Calculamos la media de variación de pulso de todos agrupando \n",
    "# por tipo de actividad\n",
    "dfVarPulsoActividad = df.groupby('tipo.actividad').aggregate({\n",
    "    '%VarPulso': np.mean\n",
    "})\n",
    "dfVarPulsoActividad\n",
    "\n",
    "#Generamos gráfico para una mejor visualización de los datos\n",
    "dfVarPulsoActividad.plot(kind='bar', rot=0, grid=True)\n"
   ]
  },
  {
   "cell_type": "code",
   "execution_count": null,
   "metadata": {},
   "outputs": [],
   "source": []
  },
  {
   "cell_type": "code",
   "execution_count": null,
   "metadata": {},
   "outputs": [],
   "source": []
  },
  {
   "cell_type": "code",
   "execution_count": null,
   "metadata": {},
   "outputs": [],
   "source": []
  },
  {
   "cell_type": "code",
   "execution_count": null,
   "metadata": {},
   "outputs": [],
   "source": []
  },
  {
   "cell_type": "code",
   "execution_count": null,
   "metadata": {},
   "outputs": [],
   "source": []
  },
  {
   "cell_type": "code",
   "execution_count": null,
   "metadata": {},
   "outputs": [],
   "source": []
  },
  {
   "cell_type": "code",
   "execution_count": null,
   "metadata": {},
   "outputs": [],
   "source": []
  },
  {
   "cell_type": "code",
   "execution_count": null,
   "metadata": {},
   "outputs": [],
   "source": []
  }
 ],
 "metadata": {
  "kernelspec": {
   "display_name": "Python 3",
   "language": "python",
   "name": "python3"
  },
  "language_info": {
   "codemirror_mode": {
    "name": "ipython",
    "version": 3
   },
   "file_extension": ".py",
   "mimetype": "text/x-python",
   "name": "python",
   "nbconvert_exporter": "python",
   "pygments_lexer": "ipython3",
   "version": "3.7.3"
  }
 },
 "nbformat": 4,
 "nbformat_minor": 2
}
