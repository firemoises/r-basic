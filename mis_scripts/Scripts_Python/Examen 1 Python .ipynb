{
 "cells": [
  {
   "cell_type": "markdown",
   "metadata": {},
   "source": [
    "## Examen 1 python"
   ]
  },
  {
   "cell_type": "markdown",
   "metadata": {},
   "source": [
    "### 1. Crea una función que reciba los tres coeficientes a, b y c para resolver una ecuación de segundo grado. Muestra la solución por pantalla y ayúdate de la librería Math para acceder a la función raíz cuadrada."
   ]
  },
  {
   "cell_type": "code",
   "execution_count": 3,
   "metadata": {},
   "outputs": [
    {
     "data": {
      "text/plain": [
       "41"
      ]
     },
     "execution_count": 3,
     "metadata": {},
     "output_type": "execute_result"
    }
   ],
   "source": [
    "def resolver_ecuacion_2dogrado(a,b,c):\n",
    "    x = 3\n",
    "    y = 4\n",
    "    z = 8\n",
    "    result = (a*x)**2+b*y+c*z\n",
    "    return result\n",
    "\n",
    "resolver_ecuacion_2dogrado(1,2,3)"
   ]
  },
  {
   "cell_type": "markdown",
   "metadata": {},
   "source": [
    "### 2. Crea una función que lea una frase de teclado y nos diga si es o no un palíndromo (frase que se lee igual de izquierda a derecha o al revés como por ejemplo La ruta nos aportó otro paso natural.)"
   ]
  },
  {
   "cell_type": "code",
   "execution_count": 48,
   "metadata": {},
   "outputs": [
    {
     "name": "stdout",
     "output_type": "stream",
     "text": [
      "Escribe el palindromoamad a la dama\n",
      "Es un palindromo\n"
     ]
    }
   ],
   "source": [
    "def verif_palindromo():\n",
    "    y = input(\"Escribe el palindromo\")\n",
    "    x = list(y)\n",
    "    if(x.count(\" \") > 0):\n",
    "        for n in range(x.count(\" \")):\n",
    "            x.remove(\" \")\n",
    "    x_rev = x.copy()\n",
    "    x_rev.reverse()\n",
    "    if(x == x_rev):\n",
    "        print(\"Es un palindromo\")\n",
    "    else:\n",
    "        print(\"NO es un palindromo\")\n",
    "        \n",
    "verif_palindromo()"
   ]
  },
  {
   "cell_type": "markdown",
   "metadata": {},
   "source": [
    "### 3. Crea un diccionario que tenga por claves los números del 1 al 10 y como valores sus raíces cuadradas"
   ]
  },
  {
   "cell_type": "code",
   "execution_count": 52,
   "metadata": {},
   "outputs": [
    {
     "data": {
      "text/plain": [
       "{'1': 1.0,\n",
       " '2': 1.4142135623730951,\n",
       " '3': 1.7320508075688772,\n",
       " '4': 2.0,\n",
       " '5': 2.23606797749979,\n",
       " '6': 2.449489742783178,\n",
       " '7': 2.6457513110645907,\n",
       " '8': 2.8284271247461903,\n",
       " '9': 3.0,\n",
       " '10': 3.1622776601683795}"
      ]
     },
     "execution_count": 52,
     "metadata": {},
     "output_type": "execute_result"
    }
   ],
   "source": [
    "import numpy as np\n",
    "\n",
    "dicc1 = {\"1\":np.sqrt(1),\n",
    "         \"2\":np.sqrt(2),\n",
    "         \"3\":np.sqrt(3),\n",
    "         \"4\":np.sqrt(4),\n",
    "         \"5\":np.sqrt(5),\n",
    "         \"6\":np.sqrt(6),\n",
    "         \"7\":np.sqrt(7),\n",
    "         \"8\":np.sqrt(8),\n",
    "         \"9\":np.sqrt(9),\n",
    "         \"10\":np.sqrt(10)} \n",
    "dicc1"
   ]
  },
  {
   "cell_type": "markdown",
   "metadata": {},
   "source": [
    "### 4.Crea un diccionario que tenga como claves las letras del alfabeto castellano y como valores los símbolos del código morse (los tienes todos en la Wikipedia). A continuación crea un programa que lea una frase del teclado y te la convierta a Morse utilizando el diccionario anterior."
   ]
  },
  {
   "cell_type": "code",
   "execution_count": 56,
   "metadata": {},
   "outputs": [
    {
     "name": "stdout",
     "output_type": "stream",
     "text": [
      "EscribeHOLA MOISES\n",
      "....\n",
      "---\n",
      ".-..\n",
      ".-\n",
      "--\n",
      "---\n",
      "..\n",
      "...\n",
      ".\n",
      "...\n"
     ]
    }
   ],
   "source": [
    "dicc2 = {'A': '.-',     'B': '-...',   'C': '-.-.', \n",
    "        'D': '-..',    'E': '.',      'F': '..-.',\n",
    "        'G': '--.',    'H': '....',   'I': '..',\n",
    "        'J': '.---',   'K': '-.-',    'L': '.-..',\n",
    "        'M': '--',     'N': '-.',     'O': '---',\n",
    "        'P': '.--.',   'Q': '--.-',   'R': '.-.',\n",
    "     \t'S': '...',    'T': '-',      'U': '..-',\n",
    "        'V': '...-',   'W': '.--',    'X': '-..-',\n",
    "        'Y': '-.--',   'Z': '--..',\n",
    "        \n",
    "        '0': '-----',  '1': '.----',  '2': '..---',\n",
    "        '3': '...--',  '4': '....-',  '5': '.....',\n",
    "        '6': '-....',  '7': '--...',  '8': '---..',\n",
    "        '9': '----.' \n",
    "        }\n",
    "\n",
    "def leer_clave_morse():\n",
    "    y = input(\"Escribe\")\n",
    "    x = list(y)\n",
    "    if(x.count(\" \") > 0):\n",
    "        for n in range(x.count(\" \")):\n",
    "            x.remove(\" \")\n",
    "    for n2 in x:\n",
    "        print(dicc2[n2])\n",
    "\n",
    "leer_clave_morse()"
   ]
  },
  {
   "cell_type": "markdown",
   "metadata": {},
   "source": [
    "### 5. Crea una función que dados dos diccionarios nos diga que claves están presentes en ambos. "
   ]
  },
  {
   "cell_type": "code",
   "execution_count": 61,
   "metadata": {},
   "outputs": [
    {
     "name": "stdout",
     "output_type": "stream",
     "text": [
      "La clave  3  esta presente en ambos diccionarios\n"
     ]
    }
   ],
   "source": [
    "dicc1 = {\"clave1\":1,\n",
    "         \"clave2\":2,\n",
    "         \"clave3\":3} \n",
    "\n",
    "dicc2 = {\"clave5\":5,\n",
    "         \"clave8\":8,\n",
    "         \"clave3\":3} \n",
    "\n",
    "def rev_dicc():\n",
    "    for n in dicc1:\n",
    "        for n2 in dicc2:\n",
    "            if n == n2:\n",
    "                print(\"La clave \",dicc1[n],\" esta presente en ambos diccionarios\")\n",
    "\n",
    "rev_dicc()\n",
    "            "
   ]
  },
  {
   "cell_type": "markdown",
   "metadata": {},
   "source": [
    "### 6. Crea una función que dado un número N nos diga si es primo o no (tiene que ir dividiendo por todos los números x comprendidos entre 2 y el propio número N menos uno y ver si el cociente de N/x tiene resto entero o no). "
   ]
  },
  {
   "cell_type": "code",
   "execution_count": 88,
   "metadata": {},
   "outputs": [
    {
     "name": "stdout",
     "output_type": "stream",
     "text": [
      "Comprueba si un numero es primo(menor a 10,000)100\n",
      "NO es un numero primo\n"
     ]
    }
   ],
   "source": [
    "def rev_numeros_primos():\n",
    "    y = int(input(\"Comprueba si un numero es primo(menor a 10,000)\"))\n",
    "    inicio = 2\n",
    "    final = 10000\n",
    "\n",
    "    noprimo = 0\n",
    "    for numero in range(inicio,final):\n",
    "        x = y % numero\n",
    "        if(x == 0 and y != numero and numero != 1):\n",
    "            noprimo +=1\n",
    "        else:\n",
    "            noprimo +=0\n",
    "            \n",
    "    if(noprimo > 0):\n",
    "        print(\"NO es un numero primo\")\n",
    "    else:\n",
    "        print(\"SI es un numero primo\")\n",
    "\n",
    "rev_numeros_primos()"
   ]
  },
  {
   "cell_type": "markdown",
   "metadata": {},
   "source": [
    "### 7. Investiga la documentación de la clase string y crea un método que lea una frase del teclado y escriba la primera letra de cada palabra en Mayúscula."
   ]
  },
  {
   "cell_type": "code",
   "execution_count": 95,
   "metadata": {},
   "outputs": [
    {
     "name": "stdout",
     "output_type": "stream",
     "text": [
      "Lleva a mayusculas la primera letravanessa dume calderon\n",
      "Vanessa\n",
      "Dume\n",
      "Calderon\n"
     ]
    }
   ],
   "source": [
    "def upper_frases():\n",
    "    y = input(\"Lleva a mayusculas la primera letra\")\n",
    "    x = y.split(\" \")\n",
    "    lista1 = list(x)\n",
    "    for l in lista1:\n",
    "        le = l.capitalize()\n",
    "        print(le)\n",
    "\n",
    "upper_frases() "
   ]
  },
  {
   "cell_type": "markdown",
   "metadata": {},
   "source": [
    "### 8. Crea una función que calcule el máximo común divisor de dos números introducidos por el usuario por teclado."
   ]
  },
  {
   "cell_type": "code",
   "execution_count": 154,
   "metadata": {},
   "outputs": [
    {
     "name": "stdout",
     "output_type": "stream",
     "text": [
      "introduce el primer numero7\n",
      "introduce el segundo numero3\n",
      "El maximo comun divisor es  1\n"
     ]
    }
   ],
   "source": [
    "def rev_max_comun_divisor():\n",
    "    y = int(input(\"introduce el primer numero\"))\n",
    "    y2 = int(input(\"introduce el segundo numero\"))\n",
    "    \n",
    "    lista1 = []\n",
    "    for numero in range(1,y+1):\n",
    "        x = y % numero\n",
    "        if(x == 0 ):\n",
    "            lista1.append(numero)\n",
    "            \n",
    "    lista2 = []\n",
    "    for numero2 in range(1,y2+1):\n",
    "        x2 = y2 % numero2\n",
    "        if(x2 == 0 ):\n",
    "            lista2.append(numero2)\n",
    "    \n",
    "    lista1.sort(reverse=True)\n",
    "    lista2.sort(reverse=True)\n",
    "    breaker = False\n",
    "    for n in lista1:\n",
    "        for n2 in lista2:\n",
    "            rompe = 0\n",
    "            if (n == n2 and len(lista1) > 0 and len(lista2) > 0):\n",
    "                max_comun_divisor = n\n",
    "                print(\"El maximo comun divisor es \",max_comun_divisor)\n",
    "                breaker = True\n",
    "                break\n",
    "                   \n",
    "        if breaker:\n",
    "            break\n",
    "                \n",
    "\n",
    "rev_max_comun_divisor()"
   ]
  },
  {
   "cell_type": "markdown",
   "metadata": {},
   "source": [
    "### 9. Investiga el Cifrado del César y crea una función que lo reproduzca en Python. Cada letra del mensaje original se desplaza tres posiciones en el alfabeto estándar. La A se convierte en la D, la B se convierte en la E, la C se convierte en la F... y cuando se acaba el alfabeto se le vuelve a dar la vuelta: la X se convierte en la A, la Y en la B y la X en la C. Los números no sufren ninguna modificación. "
   ]
  },
  {
   "cell_type": "code",
   "execution_count": 203,
   "metadata": {},
   "outputs": [
    {
     "name": "stdout",
     "output_type": "stream",
     "text": [
      "Introduce las palabras que quieres cifrar (En MAYUSCULAS)MOISES\n",
      "['P', 'R', 'L', 'V', 'H', 'V']\n"
     ]
    }
   ],
   "source": [
    "dicc1 = {\n",
    " 'A': 'A',\n",
    " 'B': 'B',\n",
    " 'C': 'C',\n",
    " 'D': 'D',\n",
    " 'E': 'E',\n",
    " 'F': 'F',\n",
    " 'G': 'G',\n",
    " 'H': 'H',\n",
    " 'I': 'I',\n",
    " 'J': 'J',\n",
    " 'K': 'K',\n",
    " 'L': 'L',\n",
    " 'M': 'M',\n",
    " 'N': 'N',\n",
    " 'O': 'O',\n",
    " 'P': 'P',\n",
    " 'Q': 'Q',\n",
    " 'R': 'R',\n",
    " 'S': 'S',\n",
    " 'T': 'T',\n",
    " 'U': 'U',\n",
    " 'V': 'V',\n",
    " 'W': 'W',\n",
    " 'X': 'X',\n",
    " 'Y': 'Y',\n",
    " 'Z': 'Z' \n",
    "        }\n",
    "\n",
    "dicc2 = {}\n",
    "\n",
    "def Cifrar():\n",
    "    lista1 = []\n",
    "    for n in dicc1.keys():\n",
    "        lista1.append(n)\n",
    "    \n",
    "    lista2 = []\n",
    "    count = 0\n",
    "    for n2 in lista1:\n",
    "        p = count+3\n",
    "        limite = len(lista1)\n",
    "        if(p>=limite):\n",
    "            p2 = p - limite\n",
    "        else:\n",
    "            p2 = p\n",
    "        lista2.append(lista1[p2])\n",
    "        dicc2[n2] = lista1[p2]\n",
    "        count += 1\n",
    "        \n",
    "    y = input(\"Introduce las palabras que quieres cifrar (En MAYUSCULAS)\")\n",
    "    x = list(y)\n",
    "    \n",
    "    lista3= []\n",
    "    for z in x:\n",
    "        cifrado = dicc2[z]\n",
    "        lista3.append(cifrado)\n",
    "    print(lista3)\n",
    "    \n",
    "        \n",
    "    \n",
    "\n",
    "Cifrar()"
   ]
  },
  {
   "cell_type": "markdown",
   "metadata": {},
   "source": [
    "### 10. Dado una lista de nombres de persona, escribe un algoritmo que los ordene de tres formas diferentes:\n",
    "A. De forma alfabética\n",
    "\n",
    "B. De forma alfabética invertida\n",
    "\n",
    "C. De nombre más corto al más largo."
   ]
  },
  {
   "cell_type": "code",
   "execution_count": 226,
   "metadata": {},
   "outputs": [
    {
     "name": "stdout",
     "output_type": "stream",
     "text": [
      "Introduce la lista de nombres separadas por un espacioabi le moises vane\n",
      "['abi', 'le', 'moises', 'vane']\n",
      "['vane', 'moises', 'le', 'abi']\n",
      "['le', 'abi', 'vane', 'moises']\n"
     ]
    }
   ],
   "source": [
    "def ordena_palabras():\n",
    "    y = input(\"Introduce la lista de nombres separadas por un espacio\")\n",
    "    lista1 = y.split(\" \")\n",
    "    lista2 = y.split(\" \")\n",
    "    \n",
    "    lista1.sort()\n",
    "    lista2.sort(reverse=True)\n",
    "    \n",
    "    print(lista1)\n",
    "    print(lista2)\n",
    "    \n",
    "    dicc1 = {}\n",
    "    lista3 = []\n",
    "    for n in lista1:\n",
    "        long = len(n)\n",
    "        dicc1[n] = long\n",
    "        lista3.append(n)\n",
    "         \n",
    "    print(sorted(lista3, key=dicc1.__getitem__))\n",
    "    #Codigo para organizar un diccionario por value ten en cuenta debes tener una lista con los mismos names del diccionario\n",
    "\n",
    "\n",
    "  \n",
    "ordena_palabras()"
   ]
  },
  {
   "cell_type": "code",
   "execution_count": null,
   "metadata": {},
   "outputs": [],
   "source": [
    "\n"
   ]
  },
  {
   "cell_type": "code",
   "execution_count": null,
   "metadata": {},
   "outputs": [],
   "source": []
  }
 ],
 "metadata": {
  "kernelspec": {
   "display_name": "Python 3",
   "language": "python",
   "name": "python3"
  },
  "language_info": {
   "codemirror_mode": {
    "name": "ipython",
    "version": 3
   },
   "file_extension": ".py",
   "mimetype": "text/x-python",
   "name": "python",
   "nbconvert_exporter": "python",
   "pygments_lexer": "ipython3",
   "version": "3.7.3"
  }
 },
 "nbformat": 4,
 "nbformat_minor": 2
}
