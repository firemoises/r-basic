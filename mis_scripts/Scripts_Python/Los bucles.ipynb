{
 "cells": [
  {
   "cell_type": "markdown",
   "metadata": {},
   "source": [
    "## Los bucles"
   ]
  },
  {
   "cell_type": "markdown",
   "metadata": {},
   "source": [
    "### Los for, iteran sobre una coleccion, como una lista o un string"
   ]
  },
  {
   "cell_type": "code",
   "execution_count": 5,
   "metadata": {},
   "outputs": [
    {
     "name": "stdout",
     "output_type": "stream",
     "text": [
      "1\n",
      "2\n",
      "3\n",
      "4\n",
      "5\n",
      "6\n"
     ]
    }
   ],
   "source": [
    "l = [1,2,3,4,5,6]\n",
    "\n",
    "for numero in l:\n",
    "    print(numero)"
   ]
  },
  {
   "cell_type": "code",
   "execution_count": 7,
   "metadata": {},
   "outputs": [
    {
     "name": "stdout",
     "output_type": "stream",
     "text": [
      "0\n",
      "1\n",
      "2\n",
      "3\n",
      "4\n",
      "5\n",
      "6\n",
      "7\n",
      "8\n",
      "9\n"
     ]
    }
   ],
   "source": [
    "for numero in range(0,10): # Para hacer for en un rango, ten en cuenta que el ultimo numero no lo cuenta\n",
    "    print(numero)"
   ]
  },
  {
   "cell_type": "code",
   "execution_count": 9,
   "metadata": {},
   "outputs": [
    {
     "name": "stdout",
     "output_type": "stream",
     "text": [
      "m\n",
      "o\n",
      "i\n",
      "s\n",
      "e\n",
      "s\n"
     ]
    }
   ],
   "source": [
    "nombre = \"moises\"\n",
    "for letra in nombre:\n",
    "    print(letra)"
   ]
  },
  {
   "cell_type": "code",
   "execution_count": 10,
   "metadata": {},
   "outputs": [
    {
     "name": "stdout",
     "output_type": "stream",
     "text": [
      "3.5\n"
     ]
    }
   ],
   "source": [
    "notas = [4,3,8,10,7,4.5]\n",
    "suma = 0\n",
    "for numero in l:\n",
    "    suma +=numero\n",
    "    \n",
    "nota_media = suma/len(notas)\n",
    "print(nota_media)\n",
    "#For para calcular la nota media"
   ]
  },
  {
   "cell_type": "markdown",
   "metadata": {},
   "source": [
    "### EL bucle while se repite hasta que una condicion es falsa"
   ]
  },
  {
   "cell_type": "code",
   "execution_count": 11,
   "metadata": {},
   "outputs": [
    {
     "name": "stdout",
     "output_type": "stream",
     "text": [
      "0\n",
      "1\n",
      "2\n",
      "3\n",
      "4\n",
      "5\n",
      "6\n",
      "7\n",
      "8\n",
      "9\n"
     ]
    }
   ],
   "source": [
    "count = 0\n",
    "while count < 10:\n",
    "    print(count)\n",
    "    count +=1"
   ]
  },
  {
   "cell_type": "markdown",
   "metadata": {},
   "source": [
    "### for con idex"
   ]
  },
  {
   "cell_type": "code",
   "execution_count": 18,
   "metadata": {},
   "outputs": [
    {
     "name": "stdout",
     "output_type": "stream",
     "text": [
      "0 2\n",
      "1 3\n",
      "2 5\n",
      "3 7\n",
      "4 11\n",
      "5 13\n",
      "6 17\n"
     ]
    }
   ],
   "source": [
    "primos = [2,3,5,7,11,13,17]\n",
    "for idx, p in enumerate(primos):\n",
    "    print(idx,p)\n",
    "# idx es la posicion\n",
    "# recuerda definir idx al principio y usar enumerate"
   ]
  },
  {
   "cell_type": "code",
   "execution_count": 28,
   "metadata": {},
   "outputs": [
    {
     "name": "stdout",
     "output_type": "stream",
     "text": [
      "0\n",
      "1\n",
      "2\n",
      "3\n",
      "4\n",
      "5\n",
      "6\n"
     ]
    }
   ],
   "source": [
    "primos = [2,3,5,7,11,13,17]\n",
    "for idx in range(len(primos)):\n",
    "    print(idx)\n",
    "# Si solo quieres traer la posicin"
   ]
  },
  {
   "cell_type": "markdown",
   "metadata": {},
   "source": [
    "### La criba de eratosteles"
   ]
  },
  {
   "cell_type": "code",
   "execution_count": 110,
   "metadata": {},
   "outputs": [
    {
     "data": {
      "text/plain": [
       "[2,\n",
       " 3,\n",
       " 5,\n",
       " 7,\n",
       " 11,\n",
       " 13,\n",
       " 17,\n",
       " 19,\n",
       " 23,\n",
       " 29,\n",
       " 31,\n",
       " 37,\n",
       " 41,\n",
       " 43,\n",
       " 47,\n",
       " 53,\n",
       " 59,\n",
       " 61,\n",
       " 67,\n",
       " 71,\n",
       " 73,\n",
       " 79,\n",
       " 83,\n",
       " 89,\n",
       " 97,\n",
       " 101,\n",
       " 103,\n",
       " 107,\n",
       " 109,\n",
       " 113]"
      ]
     },
     "execution_count": 110,
     "metadata": {},
     "output_type": "execute_result"
    }
   ],
   "source": [
    "## Formula para sacar numeros primos\n",
    "inicio = 2\n",
    "final = 120\n",
    "\n",
    "lista_numeros = []\n",
    "for numero in range(inicio,final):\n",
    "    lista_numeros.append(numero)\n",
    "    \n",
    "lista_numeros2 = []\n",
    "for numerox in range(inicio,final):\n",
    "    lista_numeros2.append(numerox)\n",
    "\n",
    "for numero in lista_numeros:\n",
    "    for numero2 in range(inicio,final):\n",
    "        x = numero % numero2\n",
    "        if(x == 0 and numero != numero2 and numero2 != 1 and lista_numeros2.count(numero) > 0):\n",
    "            lista_numeros2.remove(numero)\n",
    "            #print(numero,numero2)\n",
    "\n",
    "lista_numeros2"
   ]
  }
 ],
 "metadata": {
  "kernelspec": {
   "display_name": "Python 3",
   "language": "python",
   "name": "python3"
  },
  "language_info": {
   "codemirror_mode": {
    "name": "ipython",
    "version": 3
   },
   "file_extension": ".py",
   "mimetype": "text/x-python",
   "name": "python",
   "nbconvert_exporter": "python",
   "pygments_lexer": "ipython3",
   "version": "3.7.3"
  }
 },
 "nbformat": 4,
 "nbformat_minor": 2
}
